{
 "cells": [
  {
   "cell_type": "code",
   "execution_count": 98,
   "id": "8b0c0b0b",
   "metadata": {},
   "outputs": [],
   "source": [
    "import pandas as pd"
   ]
  },
  {
   "cell_type": "code",
   "execution_count": 99,
   "id": "77e98dff",
   "metadata": {},
   "outputs": [],
   "source": [
    "df = pd.read_csv(\"/Users/kevinjoo/df_main.csv\", delimiter=\"\\t\")\n",
    "df = df.set_index(\"Team_Name\")"
   ]
  },
  {
   "cell_type": "code",
   "execution_count": 100,
   "id": "ffa097b5",
   "metadata": {},
   "outputs": [
    {
     "data": {
      "text/html": [
       "<div>\n",
       "<style scoped>\n",
       "    .dataframe tbody tr th:only-of-type {\n",
       "        vertical-align: middle;\n",
       "    }\n",
       "\n",
       "    .dataframe tbody tr th {\n",
       "        vertical-align: top;\n",
       "    }\n",
       "\n",
       "    .dataframe thead th {\n",
       "        text-align: right;\n",
       "    }\n",
       "</style>\n",
       "<table border=\"1\" class=\"dataframe\">\n",
       "  <thead>\n",
       "    <tr style=\"text-align: right;\">\n",
       "      <th></th>\n",
       "      <th>GP</th>\n",
       "      <th>PTS</th>\n",
       "      <th>FGM</th>\n",
       "      <th>FGA</th>\n",
       "      <th>FG%</th>\n",
       "      <th>3PM</th>\n",
       "      <th>3PA</th>\n",
       "      <th>3P%</th>\n",
       "      <th>FTM</th>\n",
       "      <th>FTA</th>\n",
       "      <th>...</th>\n",
       "      <th>OR</th>\n",
       "      <th>DR</th>\n",
       "      <th>REB</th>\n",
       "      <th>AST</th>\n",
       "      <th>STL</th>\n",
       "      <th>BLK</th>\n",
       "      <th>TO</th>\n",
       "      <th>PF</th>\n",
       "      <th>WP</th>\n",
       "      <th>Season</th>\n",
       "    </tr>\n",
       "    <tr>\n",
       "      <th>Team_Name</th>\n",
       "      <th></th>\n",
       "      <th></th>\n",
       "      <th></th>\n",
       "      <th></th>\n",
       "      <th></th>\n",
       "      <th></th>\n",
       "      <th></th>\n",
       "      <th></th>\n",
       "      <th></th>\n",
       "      <th></th>\n",
       "      <th></th>\n",
       "      <th></th>\n",
       "      <th></th>\n",
       "      <th></th>\n",
       "      <th></th>\n",
       "      <th></th>\n",
       "      <th></th>\n",
       "      <th></th>\n",
       "      <th></th>\n",
       "      <th></th>\n",
       "      <th></th>\n",
       "    </tr>\n",
       "  </thead>\n",
       "  <tbody>\n",
       "    <tr>\n",
       "      <th>Milwaukee Bucks</th>\n",
       "      <td>72</td>\n",
       "      <td>120.1</td>\n",
       "      <td>44.7</td>\n",
       "      <td>91.8</td>\n",
       "      <td>48.7</td>\n",
       "      <td>14.4</td>\n",
       "      <td>37.1</td>\n",
       "      <td>38.9</td>\n",
       "      <td>16.2</td>\n",
       "      <td>21.4</td>\n",
       "      <td>...</td>\n",
       "      <td>10.3</td>\n",
       "      <td>37.8</td>\n",
       "      <td>48.1</td>\n",
       "      <td>25.5</td>\n",
       "      <td>8.1</td>\n",
       "      <td>4.6</td>\n",
       "      <td>13.4</td>\n",
       "      <td>17.3</td>\n",
       "      <td>0.639</td>\n",
       "      <td>'20 - '21</td>\n",
       "    </tr>\n",
       "    <tr>\n",
       "      <th>Brooklyn Nets</th>\n",
       "      <td>72</td>\n",
       "      <td>118.6</td>\n",
       "      <td>43.1</td>\n",
       "      <td>87.3</td>\n",
       "      <td>49.4</td>\n",
       "      <td>14.2</td>\n",
       "      <td>36.1</td>\n",
       "      <td>39.2</td>\n",
       "      <td>18.1</td>\n",
       "      <td>22.5</td>\n",
       "      <td>...</td>\n",
       "      <td>8.9</td>\n",
       "      <td>35.5</td>\n",
       "      <td>44.4</td>\n",
       "      <td>26.8</td>\n",
       "      <td>6.7</td>\n",
       "      <td>5.3</td>\n",
       "      <td>13.1</td>\n",
       "      <td>19.0</td>\n",
       "      <td>0.667</td>\n",
       "      <td>'20 - '21</td>\n",
       "    </tr>\n",
       "    <tr>\n",
       "      <th>Washington Wizards</th>\n",
       "      <td>72</td>\n",
       "      <td>116.6</td>\n",
       "      <td>43.2</td>\n",
       "      <td>90.9</td>\n",
       "      <td>47.5</td>\n",
       "      <td>10.2</td>\n",
       "      <td>29.0</td>\n",
       "      <td>35.1</td>\n",
       "      <td>20.1</td>\n",
       "      <td>26.2</td>\n",
       "      <td>...</td>\n",
       "      <td>9.7</td>\n",
       "      <td>35.5</td>\n",
       "      <td>45.2</td>\n",
       "      <td>25.5</td>\n",
       "      <td>7.3</td>\n",
       "      <td>4.1</td>\n",
       "      <td>13.9</td>\n",
       "      <td>21.6</td>\n",
       "      <td>0.472</td>\n",
       "      <td>'20 - '21</td>\n",
       "    </tr>\n",
       "    <tr>\n",
       "      <th>Utah Jazz</th>\n",
       "      <td>72</td>\n",
       "      <td>116.4</td>\n",
       "      <td>41.3</td>\n",
       "      <td>88.1</td>\n",
       "      <td>46.8</td>\n",
       "      <td>16.7</td>\n",
       "      <td>43.0</td>\n",
       "      <td>38.9</td>\n",
       "      <td>17.2</td>\n",
       "      <td>21.5</td>\n",
       "      <td>...</td>\n",
       "      <td>10.6</td>\n",
       "      <td>37.6</td>\n",
       "      <td>48.3</td>\n",
       "      <td>23.7</td>\n",
       "      <td>6.6</td>\n",
       "      <td>5.2</td>\n",
       "      <td>13.5</td>\n",
       "      <td>18.5</td>\n",
       "      <td>0.722</td>\n",
       "      <td>'20 - '21</td>\n",
       "    </tr>\n",
       "    <tr>\n",
       "      <th>Portland Trail Blazers</th>\n",
       "      <td>72</td>\n",
       "      <td>116.1</td>\n",
       "      <td>41.3</td>\n",
       "      <td>91.1</td>\n",
       "      <td>45.3</td>\n",
       "      <td>15.7</td>\n",
       "      <td>40.8</td>\n",
       "      <td>38.5</td>\n",
       "      <td>17.8</td>\n",
       "      <td>21.6</td>\n",
       "      <td>...</td>\n",
       "      <td>10.6</td>\n",
       "      <td>33.9</td>\n",
       "      <td>44.5</td>\n",
       "      <td>21.3</td>\n",
       "      <td>6.9</td>\n",
       "      <td>5.0</td>\n",
       "      <td>10.8</td>\n",
       "      <td>18.9</td>\n",
       "      <td>0.583</td>\n",
       "      <td>'20 - '21</td>\n",
       "    </tr>\n",
       "  </tbody>\n",
       "</table>\n",
       "<p>5 rows × 21 columns</p>\n",
       "</div>"
      ],
      "text/plain": [
       "                        GP    PTS   FGM   FGA   FG%   3PM   3PA   3P%   FTM  \\\n",
       "Team_Name                                                                     \n",
       "Milwaukee Bucks         72  120.1  44.7  91.8  48.7  14.4  37.1  38.9  16.2   \n",
       "Brooklyn Nets           72  118.6  43.1  87.3  49.4  14.2  36.1  39.2  18.1   \n",
       "Washington Wizards      72  116.6  43.2  90.9  47.5  10.2  29.0  35.1  20.1   \n",
       "Utah Jazz               72  116.4  41.3  88.1  46.8  16.7  43.0  38.9  17.2   \n",
       "Portland Trail Blazers  72  116.1  41.3  91.1  45.3  15.7  40.8  38.5  17.8   \n",
       "\n",
       "                         FTA  ...    OR    DR   REB   AST  STL  BLK    TO  \\\n",
       "Team_Name                     ...                                           \n",
       "Milwaukee Bucks         21.4  ...  10.3  37.8  48.1  25.5  8.1  4.6  13.4   \n",
       "Brooklyn Nets           22.5  ...   8.9  35.5  44.4  26.8  6.7  5.3  13.1   \n",
       "Washington Wizards      26.2  ...   9.7  35.5  45.2  25.5  7.3  4.1  13.9   \n",
       "Utah Jazz               21.5  ...  10.6  37.6  48.3  23.7  6.6  5.2  13.5   \n",
       "Portland Trail Blazers  21.6  ...  10.6  33.9  44.5  21.3  6.9  5.0  10.8   \n",
       "\n",
       "                          PF     WP     Season  \n",
       "Team_Name                                       \n",
       "Milwaukee Bucks         17.3  0.639  '20 - '21  \n",
       "Brooklyn Nets           19.0  0.667  '20 - '21  \n",
       "Washington Wizards      21.6  0.472  '20 - '21  \n",
       "Utah Jazz               18.5  0.722  '20 - '21  \n",
       "Portland Trail Blazers  18.9  0.583  '20 - '21  \n",
       "\n",
       "[5 rows x 21 columns]"
      ]
     },
     "execution_count": 100,
     "metadata": {},
     "output_type": "execute_result"
    }
   ],
   "source": [
    "df.head()"
   ]
  },
  {
   "cell_type": "code",
   "execution_count": 101,
   "id": "665fa235",
   "metadata": {},
   "outputs": [],
   "source": [
    "import numpy as np\n",
    "from sklearn.linear_model import LinearRegression\n",
    "from sklearn.model_selection import train_test_split\n",
    "from sklearn.preprocessing import StandardScaler\n",
    "import seaborn as sns\n",
    "import matplotlib.pyplot as plt"
   ]
  },
  {
   "cell_type": "code",
   "execution_count": 102,
   "id": "779eb12e",
   "metadata": {
    "scrolled": true
   },
   "outputs": [],
   "source": [
    "#sns.pairplot(df)"
   ]
  },
  {
   "cell_type": "code",
   "execution_count": 103,
   "id": "1793b7fa",
   "metadata": {},
   "outputs": [],
   "source": [
    "X = df[[\"PTS\", \"FGM\", \"FGA\", \"FG%\", \"3PM\", \"3PA\", \"3P%\", \"FTM\", \"FTA\", \"FT%\", \"OR\", \"DR\", \"REB\", \"AST\", \"STL\", \"BLK\", \"TO\", \"PF\"]]\n"
   ]
  },
  {
   "cell_type": "code",
   "execution_count": 104,
   "id": "51c9c1a9",
   "metadata": {},
   "outputs": [],
   "source": [
    "y = df.WP"
   ]
  },
  {
   "cell_type": "code",
   "execution_count": 105,
   "id": "75a52cc2",
   "metadata": {},
   "outputs": [],
   "source": [
    "# Split into train, val, and test\n",
    "X, X_test, y, y_test = train_test_split(X, y, test_size=0.2, random_state=40)\n",
    "X_train, X_val, y_train, y_val = train_test_split(X, y, test_size=0.25, random_state=40)"
   ]
  },
  {
   "cell_type": "code",
   "execution_count": 106,
   "id": "04069252",
   "metadata": {},
   "outputs": [
    {
     "data": {
      "text/plain": [
       "0.7948565324646218"
      ]
     },
     "execution_count": 106,
     "metadata": {},
     "output_type": "execute_result"
    }
   ],
   "source": [
    "# Fit a simple linear regression on training set\n",
    "lr = LinearRegression()\n",
    "lr.fit(X_train,y_train)\n",
    "lr.score(X_train,y_train)"
   ]
  },
  {
   "cell_type": "code",
   "execution_count": 107,
   "id": "df556081",
   "metadata": {},
   "outputs": [
    {
     "data": {
      "text/plain": [
       "0.8307991551573009"
      ]
     },
     "execution_count": 107,
     "metadata": {},
     "output_type": "execute_result"
    }
   ],
   "source": [
    "# Score on validation set\n",
    "lr.score(X_val,y_val)"
   ]
  },
  {
   "cell_type": "code",
   "execution_count": null,
   "id": "2f65a181",
   "metadata": {},
   "outputs": [],
   "source": []
  },
  {
   "cell_type": "code",
   "execution_count": 108,
   "id": "067b92e2",
   "metadata": {},
   "outputs": [],
   "source": [
    "from sklearn.preprocessing import PolynomialFeatures"
   ]
  },
  {
   "cell_type": "code",
   "execution_count": 109,
   "id": "e4542d03",
   "metadata": {},
   "outputs": [
    {
     "data": {
      "text/plain": [
       "0.83625737783989"
      ]
     },
     "execution_count": 109,
     "metadata": {},
     "output_type": "execute_result"
    }
   ],
   "source": [
    "# Create polynomial features\n",
    "poly = PolynomialFeatures(degree=2)\n",
    "X_train_poly = poly.fit_transform(X_train)\n",
    "\n",
    "# Apply polynomial transformation to val set\n",
    "X_val_poly = poly.transform(X_val)\n",
    "\n",
    "# Fit a model using polynomial features\n",
    "lr_poly = LinearRegression()\n",
    "lr_poly.fit(X_train_poly,y_train)\n",
    "lr_poly.score(X_train_poly,y_train)"
   ]
  },
  {
   "cell_type": "code",
   "execution_count": 110,
   "id": "0c8df3be",
   "metadata": {},
   "outputs": [
    {
     "data": {
      "text/plain": [
       "0.4472485231645176"
      ]
     },
     "execution_count": 110,
     "metadata": {},
     "output_type": "execute_result"
    }
   ],
   "source": [
    "lr_poly.score(X_val_poly, y_val)"
   ]
  },
  {
   "cell_type": "code",
   "execution_count": null,
   "id": "595faea6",
   "metadata": {},
   "outputs": [],
   "source": []
  },
  {
   "cell_type": "code",
   "execution_count": 111,
   "id": "a26f8658",
   "metadata": {},
   "outputs": [],
   "source": [
    "from sklearn.linear_model import LassoCV, RidgeCV"
   ]
  },
  {
   "cell_type": "code",
   "execution_count": 112,
   "id": "52c91d4e",
   "metadata": {},
   "outputs": [
    {
     "name": "stderr",
     "output_type": "stream",
     "text": [
      "/opt/anaconda3/envs/metis/lib/python3.8/site-packages/sklearn/linear_model/_coordinate_descent.py:526: ConvergenceWarning: Objective did not converge. You might want to increase the number of iterations. Duality gap: 0.0005537104625785716, tolerance: 0.000520110149632353\n",
      "  model = cd_fast.enet_coordinate_descent_gram(\n",
      "/opt/anaconda3/envs/metis/lib/python3.8/site-packages/sklearn/linear_model/_coordinate_descent.py:526: ConvergenceWarning: Objective did not converge. You might want to increase the number of iterations. Duality gap: 0.0005975773341950763, tolerance: 0.000520110149632353\n",
      "  model = cd_fast.enet_coordinate_descent_gram(\n",
      "/opt/anaconda3/envs/metis/lib/python3.8/site-packages/sklearn/linear_model/_coordinate_descent.py:526: ConvergenceWarning: Objective did not converge. You might want to increase the number of iterations. Duality gap: 0.0007476636096983569, tolerance: 0.000520110149632353\n",
      "  model = cd_fast.enet_coordinate_descent_gram(\n",
      "/opt/anaconda3/envs/metis/lib/python3.8/site-packages/sklearn/linear_model/_coordinate_descent.py:526: ConvergenceWarning: Objective did not converge. You might want to increase the number of iterations. Duality gap: 0.000787665590845199, tolerance: 0.000520110149632353\n",
      "  model = cd_fast.enet_coordinate_descent_gram(\n",
      "/opt/anaconda3/envs/metis/lib/python3.8/site-packages/sklearn/linear_model/_coordinate_descent.py:526: ConvergenceWarning: Objective did not converge. You might want to increase the number of iterations. Duality gap: 0.0011480823689136166, tolerance: 0.000520110149632353\n",
      "  model = cd_fast.enet_coordinate_descent_gram(\n",
      "/opt/anaconda3/envs/metis/lib/python3.8/site-packages/sklearn/linear_model/_coordinate_descent.py:526: ConvergenceWarning: Objective did not converge. You might want to increase the number of iterations. Duality gap: 0.0015625100786371693, tolerance: 0.000520110149632353\n",
      "  model = cd_fast.enet_coordinate_descent_gram(\n",
      "/opt/anaconda3/envs/metis/lib/python3.8/site-packages/sklearn/linear_model/_coordinate_descent.py:526: ConvergenceWarning: Objective did not converge. You might want to increase the number of iterations. Duality gap: 0.0017241798300078326, tolerance: 0.000520110149632353\n",
      "  model = cd_fast.enet_coordinate_descent_gram(\n",
      "/opt/anaconda3/envs/metis/lib/python3.8/site-packages/sklearn/linear_model/_coordinate_descent.py:526: ConvergenceWarning: Objective did not converge. You might want to increase the number of iterations. Duality gap: 0.001998098894362421, tolerance: 0.000520110149632353\n",
      "  model = cd_fast.enet_coordinate_descent_gram(\n",
      "/opt/anaconda3/envs/metis/lib/python3.8/site-packages/sklearn/linear_model/_coordinate_descent.py:526: ConvergenceWarning: Objective did not converge. You might want to increase the number of iterations. Duality gap: 0.002537579102301457, tolerance: 0.000520110149632353\n",
      "  model = cd_fast.enet_coordinate_descent_gram(\n",
      "/opt/anaconda3/envs/metis/lib/python3.8/site-packages/sklearn/linear_model/_coordinate_descent.py:526: ConvergenceWarning: Objective did not converge. You might want to increase the number of iterations. Duality gap: 0.0024360779519481124, tolerance: 0.000520110149632353\n",
      "  model = cd_fast.enet_coordinate_descent_gram(\n",
      "/opt/anaconda3/envs/metis/lib/python3.8/site-packages/sklearn/linear_model/_coordinate_descent.py:526: ConvergenceWarning: Objective did not converge. You might want to increase the number of iterations. Duality gap: 0.0028671800076478515, tolerance: 0.000520110149632353\n",
      "  model = cd_fast.enet_coordinate_descent_gram(\n",
      "/opt/anaconda3/envs/metis/lib/python3.8/site-packages/sklearn/linear_model/_coordinate_descent.py:526: ConvergenceWarning: Objective did not converge. You might want to increase the number of iterations. Duality gap: 0.0032632391631433055, tolerance: 0.000520110149632353\n",
      "  model = cd_fast.enet_coordinate_descent_gram(\n",
      "/opt/anaconda3/envs/metis/lib/python3.8/site-packages/sklearn/linear_model/_coordinate_descent.py:526: ConvergenceWarning: Objective did not converge. You might want to increase the number of iterations. Duality gap: 0.003342236964243961, tolerance: 0.000520110149632353\n",
      "  model = cd_fast.enet_coordinate_descent_gram(\n",
      "/opt/anaconda3/envs/metis/lib/python3.8/site-packages/sklearn/linear_model/_coordinate_descent.py:526: ConvergenceWarning: Objective did not converge. You might want to increase the number of iterations. Duality gap: 0.0030771254574386564, tolerance: 0.000520110149632353\n",
      "  model = cd_fast.enet_coordinate_descent_gram(\n",
      "/opt/anaconda3/envs/metis/lib/python3.8/site-packages/sklearn/linear_model/_coordinate_descent.py:526: ConvergenceWarning: Objective did not converge. You might want to increase the number of iterations. Duality gap: 0.0010802313283941878, tolerance: 0.000520110149632353\n",
      "  model = cd_fast.enet_coordinate_descent_gram(\n",
      "/opt/anaconda3/envs/metis/lib/python3.8/site-packages/sklearn/linear_model/_coordinate_descent.py:526: ConvergenceWarning: Objective did not converge. You might want to increase the number of iterations. Duality gap: 0.0017191412512964632, tolerance: 0.000520110149632353\n",
      "  model = cd_fast.enet_coordinate_descent_gram(\n",
      "/opt/anaconda3/envs/metis/lib/python3.8/site-packages/sklearn/linear_model/_coordinate_descent.py:526: ConvergenceWarning: Objective did not converge. You might want to increase the number of iterations. Duality gap: 0.0016916879282199426, tolerance: 0.000520110149632353\n",
      "  model = cd_fast.enet_coordinate_descent_gram(\n",
      "/opt/anaconda3/envs/metis/lib/python3.8/site-packages/sklearn/linear_model/_coordinate_descent.py:526: ConvergenceWarning: Objective did not converge. You might want to increase the number of iterations. Duality gap: 0.0016477735037760954, tolerance: 0.000520110149632353\n",
      "  model = cd_fast.enet_coordinate_descent_gram(\n",
      "/opt/anaconda3/envs/metis/lib/python3.8/site-packages/sklearn/linear_model/_coordinate_descent.py:526: ConvergenceWarning: Objective did not converge. You might want to increase the number of iterations. Duality gap: 0.00240303120012475, tolerance: 0.000520110149632353\n",
      "  model = cd_fast.enet_coordinate_descent_gram(\n",
      "/opt/anaconda3/envs/metis/lib/python3.8/site-packages/sklearn/linear_model/_coordinate_descent.py:526: ConvergenceWarning: Objective did not converge. You might want to increase the number of iterations. Duality gap: 0.0039975883880556395, tolerance: 0.000520110149632353\n",
      "  model = cd_fast.enet_coordinate_descent_gram(\n",
      "/opt/anaconda3/envs/metis/lib/python3.8/site-packages/sklearn/linear_model/_coordinate_descent.py:526: ConvergenceWarning: Objective did not converge. You might want to increase the number of iterations. Duality gap: 0.0055728263106503695, tolerance: 0.000520110149632353\n",
      "  model = cd_fast.enet_coordinate_descent_gram(\n",
      "/opt/anaconda3/envs/metis/lib/python3.8/site-packages/sklearn/linear_model/_coordinate_descent.py:526: ConvergenceWarning: Objective did not converge. You might want to increase the number of iterations. Duality gap: 0.006868823886552633, tolerance: 0.000520110149632353\n",
      "  model = cd_fast.enet_coordinate_descent_gram(\n",
      "/opt/anaconda3/envs/metis/lib/python3.8/site-packages/sklearn/linear_model/_coordinate_descent.py:526: ConvergenceWarning: Objective did not converge. You might want to increase the number of iterations. Duality gap: 0.0073392115366581745, tolerance: 0.000520110149632353\n",
      "  model = cd_fast.enet_coordinate_descent_gram(\n",
      "/opt/anaconda3/envs/metis/lib/python3.8/site-packages/sklearn/linear_model/_coordinate_descent.py:526: ConvergenceWarning: Objective did not converge. You might want to increase the number of iterations. Duality gap: 0.009242643686035557, tolerance: 0.000520110149632353\n",
      "  model = cd_fast.enet_coordinate_descent_gram(\n",
      "/opt/anaconda3/envs/metis/lib/python3.8/site-packages/sklearn/linear_model/_coordinate_descent.py:526: ConvergenceWarning: Objective did not converge. You might want to increase the number of iterations. Duality gap: 0.00761659090639899, tolerance: 0.000520110149632353\n",
      "  model = cd_fast.enet_coordinate_descent_gram(\n",
      "/opt/anaconda3/envs/metis/lib/python3.8/site-packages/sklearn/linear_model/_coordinate_descent.py:526: ConvergenceWarning: Objective did not converge. You might want to increase the number of iterations. Duality gap: 0.009539208942954236, tolerance: 0.000520110149632353\n",
      "  model = cd_fast.enet_coordinate_descent_gram(\n",
      "/opt/anaconda3/envs/metis/lib/python3.8/site-packages/sklearn/linear_model/_coordinate_descent.py:526: ConvergenceWarning: Objective did not converge. You might want to increase the number of iterations. Duality gap: 0.011355011924133018, tolerance: 0.000520110149632353\n",
      "  model = cd_fast.enet_coordinate_descent_gram(\n",
      "/opt/anaconda3/envs/metis/lib/python3.8/site-packages/sklearn/linear_model/_coordinate_descent.py:526: ConvergenceWarning: Objective did not converge. You might want to increase the number of iterations. Duality gap: 0.0005327938800125942, tolerance: 0.0005176644172794118\n",
      "  model = cd_fast.enet_coordinate_descent_gram(\n",
      "/opt/anaconda3/envs/metis/lib/python3.8/site-packages/sklearn/linear_model/_coordinate_descent.py:526: ConvergenceWarning: Objective did not converge. You might want to increase the number of iterations. Duality gap: 0.0006078222217384965, tolerance: 0.0005176644172794118\n",
      "  model = cd_fast.enet_coordinate_descent_gram(\n",
      "/opt/anaconda3/envs/metis/lib/python3.8/site-packages/sklearn/linear_model/_coordinate_descent.py:526: ConvergenceWarning: Objective did not converge. You might want to increase the number of iterations. Duality gap: 0.0007006088927967724, tolerance: 0.0005176644172794118\n",
      "  model = cd_fast.enet_coordinate_descent_gram(\n",
      "/opt/anaconda3/envs/metis/lib/python3.8/site-packages/sklearn/linear_model/_coordinate_descent.py:526: ConvergenceWarning: Objective did not converge. You might want to increase the number of iterations. Duality gap: 0.0006952308785488359, tolerance: 0.0005176644172794118\n",
      "  model = cd_fast.enet_coordinate_descent_gram(\n",
      "/opt/anaconda3/envs/metis/lib/python3.8/site-packages/sklearn/linear_model/_coordinate_descent.py:526: ConvergenceWarning: Objective did not converge. You might want to increase the number of iterations. Duality gap: 0.000696053937873975, tolerance: 0.0005176644172794118\n",
      "  model = cd_fast.enet_coordinate_descent_gram(\n",
      "/opt/anaconda3/envs/metis/lib/python3.8/site-packages/sklearn/linear_model/_coordinate_descent.py:526: ConvergenceWarning: Objective did not converge. You might want to increase the number of iterations. Duality gap: 0.0007300269479131316, tolerance: 0.0005176644172794118\n",
      "  model = cd_fast.enet_coordinate_descent_gram(\n",
      "/opt/anaconda3/envs/metis/lib/python3.8/site-packages/sklearn/linear_model/_coordinate_descent.py:526: ConvergenceWarning: Objective did not converge. You might want to increase the number of iterations. Duality gap: 0.0008150893396061676, tolerance: 0.0005176644172794118\n",
      "  model = cd_fast.enet_coordinate_descent_gram(\n",
      "/opt/anaconda3/envs/metis/lib/python3.8/site-packages/sklearn/linear_model/_coordinate_descent.py:526: ConvergenceWarning: Objective did not converge. You might want to increase the number of iterations. Duality gap: 0.0008449582985006199, tolerance: 0.0005176644172794118\n",
      "  model = cd_fast.enet_coordinate_descent_gram(\n",
      "/opt/anaconda3/envs/metis/lib/python3.8/site-packages/sklearn/linear_model/_coordinate_descent.py:526: ConvergenceWarning: Objective did not converge. You might want to increase the number of iterations. Duality gap: 0.0009069000988710663, tolerance: 0.0005176644172794118\n",
      "  model = cd_fast.enet_coordinate_descent_gram(\n",
      "/opt/anaconda3/envs/metis/lib/python3.8/site-packages/sklearn/linear_model/_coordinate_descent.py:526: ConvergenceWarning: Objective did not converge. You might want to increase the number of iterations. Duality gap: 0.0010133249179011816, tolerance: 0.0005176644172794118\n",
      "  model = cd_fast.enet_coordinate_descent_gram(\n",
      "/opt/anaconda3/envs/metis/lib/python3.8/site-packages/sklearn/linear_model/_coordinate_descent.py:526: ConvergenceWarning: Objective did not converge. You might want to increase the number of iterations. Duality gap: 0.0010731970507245059, tolerance: 0.0005176644172794118\n",
      "  model = cd_fast.enet_coordinate_descent_gram(\n",
      "/opt/anaconda3/envs/metis/lib/python3.8/site-packages/sklearn/linear_model/_coordinate_descent.py:526: ConvergenceWarning: Objective did not converge. You might want to increase the number of iterations. Duality gap: 0.0010042944063113346, tolerance: 0.0005176644172794118\n",
      "  model = cd_fast.enet_coordinate_descent_gram(\n",
      "/opt/anaconda3/envs/metis/lib/python3.8/site-packages/sklearn/linear_model/_coordinate_descent.py:526: ConvergenceWarning: Objective did not converge. You might want to increase the number of iterations. Duality gap: 0.000978065989993393, tolerance: 0.0005176644172794118\n",
      "  model = cd_fast.enet_coordinate_descent_gram(\n",
      "/opt/anaconda3/envs/metis/lib/python3.8/site-packages/sklearn/linear_model/_coordinate_descent.py:526: ConvergenceWarning: Objective did not converge. You might want to increase the number of iterations. Duality gap: 0.001002577000319027, tolerance: 0.0005176644172794118\n",
      "  model = cd_fast.enet_coordinate_descent_gram(\n",
      "/opt/anaconda3/envs/metis/lib/python3.8/site-packages/sklearn/linear_model/_coordinate_descent.py:526: ConvergenceWarning: Objective did not converge. You might want to increase the number of iterations. Duality gap: 0.0008488152020035278, tolerance: 0.0005176644172794118\n",
      "  model = cd_fast.enet_coordinate_descent_gram(\n",
      "/opt/anaconda3/envs/metis/lib/python3.8/site-packages/sklearn/linear_model/_coordinate_descent.py:526: ConvergenceWarning: Objective did not converge. You might want to increase the number of iterations. Duality gap: 0.0007025414284034248, tolerance: 0.0005176644172794118\n",
      "  model = cd_fast.enet_coordinate_descent_gram(\n",
      "/opt/anaconda3/envs/metis/lib/python3.8/site-packages/sklearn/linear_model/_coordinate_descent.py:526: ConvergenceWarning: Objective did not converge. You might want to increase the number of iterations. Duality gap: 0.0010614265892379127, tolerance: 0.0005176644172794118\n",
      "  model = cd_fast.enet_coordinate_descent_gram(\n",
      "/opt/anaconda3/envs/metis/lib/python3.8/site-packages/sklearn/linear_model/_coordinate_descent.py:526: ConvergenceWarning: Objective did not converge. You might want to increase the number of iterations. Duality gap: 0.0015274119621078164, tolerance: 0.0005176644172794118\n",
      "  model = cd_fast.enet_coordinate_descent_gram(\n",
      "/opt/anaconda3/envs/metis/lib/python3.8/site-packages/sklearn/linear_model/_coordinate_descent.py:526: ConvergenceWarning: Objective did not converge. You might want to increase the number of iterations. Duality gap: 0.0017378283910908232, tolerance: 0.0005176644172794118\n",
      "  model = cd_fast.enet_coordinate_descent_gram(\n",
      "/opt/anaconda3/envs/metis/lib/python3.8/site-packages/sklearn/linear_model/_coordinate_descent.py:526: ConvergenceWarning: Objective did not converge. You might want to increase the number of iterations. Duality gap: 0.0016261992736380515, tolerance: 0.0005176644172794118\n",
      "  model = cd_fast.enet_coordinate_descent_gram(\n",
      "/opt/anaconda3/envs/metis/lib/python3.8/site-packages/sklearn/linear_model/_coordinate_descent.py:526: ConvergenceWarning: Objective did not converge. You might want to increase the number of iterations. Duality gap: 0.0011923996878329124, tolerance: 0.0005176644172794118\n",
      "  model = cd_fast.enet_coordinate_descent_gram(\n",
      "/opt/anaconda3/envs/metis/lib/python3.8/site-packages/sklearn/linear_model/_coordinate_descent.py:526: ConvergenceWarning: Objective did not converge. You might want to increase the number of iterations. Duality gap: 0.001502154616076834, tolerance: 0.0005176644172794118\n",
      "  model = cd_fast.enet_coordinate_descent_gram(\n",
      "/opt/anaconda3/envs/metis/lib/python3.8/site-packages/sklearn/linear_model/_coordinate_descent.py:526: ConvergenceWarning: Objective did not converge. You might want to increase the number of iterations. Duality gap: 0.0017107886785391324, tolerance: 0.0005176644172794118\n",
      "  model = cd_fast.enet_coordinate_descent_gram(\n",
      "/opt/anaconda3/envs/metis/lib/python3.8/site-packages/sklearn/linear_model/_coordinate_descent.py:526: ConvergenceWarning: Objective did not converge. You might want to increase the number of iterations. Duality gap: 0.0021208484308145037, tolerance: 0.0005176644172794118\n",
      "  model = cd_fast.enet_coordinate_descent_gram(\n",
      "/opt/anaconda3/envs/metis/lib/python3.8/site-packages/sklearn/linear_model/_coordinate_descent.py:526: ConvergenceWarning: Objective did not converge. You might want to increase the number of iterations. Duality gap: 0.006038209564091401, tolerance: 0.0005176644172794118\n",
      "  model = cd_fast.enet_coordinate_descent_gram(\n",
      "/opt/anaconda3/envs/metis/lib/python3.8/site-packages/sklearn/linear_model/_coordinate_descent.py:526: ConvergenceWarning: Objective did not converge. You might want to increase the number of iterations. Duality gap: 0.007981123025087244, tolerance: 0.0005176644172794118\n",
      "  model = cd_fast.enet_coordinate_descent_gram(\n",
      "/opt/anaconda3/envs/metis/lib/python3.8/site-packages/sklearn/linear_model/_coordinate_descent.py:526: ConvergenceWarning: Objective did not converge. You might want to increase the number of iterations. Duality gap: 0.008784780840340511, tolerance: 0.0005176644172794118\n",
      "  model = cd_fast.enet_coordinate_descent_gram(\n",
      "/opt/anaconda3/envs/metis/lib/python3.8/site-packages/sklearn/linear_model/_coordinate_descent.py:526: ConvergenceWarning: Objective did not converge. You might want to increase the number of iterations. Duality gap: 0.00890292535296533, tolerance: 0.0005176644172794118\n",
      "  model = cd_fast.enet_coordinate_descent_gram(\n",
      "/opt/anaconda3/envs/metis/lib/python3.8/site-packages/sklearn/linear_model/_coordinate_descent.py:526: ConvergenceWarning: Objective did not converge. You might want to increase the number of iterations. Duality gap: 0.009333474796504593, tolerance: 0.0005176644172794118\n",
      "  model = cd_fast.enet_coordinate_descent_gram(\n",
      "/opt/anaconda3/envs/metis/lib/python3.8/site-packages/sklearn/linear_model/_coordinate_descent.py:526: ConvergenceWarning: Objective did not converge. You might want to increase the number of iterations. Duality gap: 0.005938134757229818, tolerance: 0.0005176644172794118\n",
      "  model = cd_fast.enet_coordinate_descent_gram(\n",
      "/opt/anaconda3/envs/metis/lib/python3.8/site-packages/sklearn/linear_model/_coordinate_descent.py:526: ConvergenceWarning: Objective did not converge. You might want to increase the number of iterations. Duality gap: 0.008122135138540765, tolerance: 0.0005176644172794118\n",
      "  model = cd_fast.enet_coordinate_descent_gram(\n",
      "/opt/anaconda3/envs/metis/lib/python3.8/site-packages/sklearn/linear_model/_coordinate_descent.py:526: ConvergenceWarning: Objective did not converge. You might want to increase the number of iterations. Duality gap: 0.010505465248636159, tolerance: 0.0005176644172794118\n",
      "  model = cd_fast.enet_coordinate_descent_gram(\n",
      "/opt/anaconda3/envs/metis/lib/python3.8/site-packages/sklearn/linear_model/_coordinate_descent.py:526: ConvergenceWarning: Objective did not converge. You might want to increase the number of iterations. Duality gap: 0.011420276042082289, tolerance: 0.0005176644172794118\n",
      "  model = cd_fast.enet_coordinate_descent_gram(\n",
      "/opt/anaconda3/envs/metis/lib/python3.8/site-packages/sklearn/linear_model/_coordinate_descent.py:526: ConvergenceWarning: Objective did not converge. You might want to increase the number of iterations. Duality gap: 0.0005322545082058205, tolerance: 0.0005174898220588235\n",
      "  model = cd_fast.enet_coordinate_descent_gram(\n",
      "/opt/anaconda3/envs/metis/lib/python3.8/site-packages/sklearn/linear_model/_coordinate_descent.py:526: ConvergenceWarning: Objective did not converge. You might want to increase the number of iterations. Duality gap: 0.0011159327659101548, tolerance: 0.0005174898220588235\n",
      "  model = cd_fast.enet_coordinate_descent_gram(\n",
      "/opt/anaconda3/envs/metis/lib/python3.8/site-packages/sklearn/linear_model/_coordinate_descent.py:526: ConvergenceWarning: Objective did not converge. You might want to increase the number of iterations. Duality gap: 0.0012582773961835603, tolerance: 0.0005174898220588235\n",
      "  model = cd_fast.enet_coordinate_descent_gram(\n",
      "/opt/anaconda3/envs/metis/lib/python3.8/site-packages/sklearn/linear_model/_coordinate_descent.py:526: ConvergenceWarning: Objective did not converge. You might want to increase the number of iterations. Duality gap: 0.0019327198321725803, tolerance: 0.0005174898220588235\n",
      "  model = cd_fast.enet_coordinate_descent_gram(\n",
      "/opt/anaconda3/envs/metis/lib/python3.8/site-packages/sklearn/linear_model/_coordinate_descent.py:526: ConvergenceWarning: Objective did not converge. You might want to increase the number of iterations. Duality gap: 0.0024510476742509724, tolerance: 0.0005174898220588235\n",
      "  model = cd_fast.enet_coordinate_descent_gram(\n",
      "/opt/anaconda3/envs/metis/lib/python3.8/site-packages/sklearn/linear_model/_coordinate_descent.py:526: ConvergenceWarning: Objective did not converge. You might want to increase the number of iterations. Duality gap: 0.002746197999570432, tolerance: 0.0005174898220588235\n",
      "  model = cd_fast.enet_coordinate_descent_gram(\n",
      "/opt/anaconda3/envs/metis/lib/python3.8/site-packages/sklearn/linear_model/_coordinate_descent.py:526: ConvergenceWarning: Objective did not converge. You might want to increase the number of iterations. Duality gap: 0.0024164440283478417, tolerance: 0.0005174898220588235\n",
      "  model = cd_fast.enet_coordinate_descent_gram(\n",
      "/opt/anaconda3/envs/metis/lib/python3.8/site-packages/sklearn/linear_model/_coordinate_descent.py:526: ConvergenceWarning: Objective did not converge. You might want to increase the number of iterations. Duality gap: 0.0021295014054535377, tolerance: 0.0005174898220588235\n",
      "  model = cd_fast.enet_coordinate_descent_gram(\n",
      "/opt/anaconda3/envs/metis/lib/python3.8/site-packages/sklearn/linear_model/_coordinate_descent.py:526: ConvergenceWarning: Objective did not converge. You might want to increase the number of iterations. Duality gap: 0.0022681148644159155, tolerance: 0.0005174898220588235\n",
      "  model = cd_fast.enet_coordinate_descent_gram(\n",
      "/opt/anaconda3/envs/metis/lib/python3.8/site-packages/sklearn/linear_model/_coordinate_descent.py:526: ConvergenceWarning: Objective did not converge. You might want to increase the number of iterations. Duality gap: 0.0018507661789951557, tolerance: 0.0005174898220588235\n",
      "  model = cd_fast.enet_coordinate_descent_gram(\n",
      "/opt/anaconda3/envs/metis/lib/python3.8/site-packages/sklearn/linear_model/_coordinate_descent.py:526: ConvergenceWarning: Objective did not converge. You might want to increase the number of iterations. Duality gap: 0.0016155425128716594, tolerance: 0.0005174898220588235\n",
      "  model = cd_fast.enet_coordinate_descent_gram(\n",
      "/opt/anaconda3/envs/metis/lib/python3.8/site-packages/sklearn/linear_model/_coordinate_descent.py:526: ConvergenceWarning: Objective did not converge. You might want to increase the number of iterations. Duality gap: 0.0018150377334604784, tolerance: 0.0005174898220588235\n",
      "  model = cd_fast.enet_coordinate_descent_gram(\n",
      "/opt/anaconda3/envs/metis/lib/python3.8/site-packages/sklearn/linear_model/_coordinate_descent.py:526: ConvergenceWarning: Objective did not converge. You might want to increase the number of iterations. Duality gap: 0.0030922896016937207, tolerance: 0.0005174898220588235\n",
      "  model = cd_fast.enet_coordinate_descent_gram(\n",
      "/opt/anaconda3/envs/metis/lib/python3.8/site-packages/sklearn/linear_model/_coordinate_descent.py:526: ConvergenceWarning: Objective did not converge. You might want to increase the number of iterations. Duality gap: 0.004851936316964234, tolerance: 0.0005174898220588235\n",
      "  model = cd_fast.enet_coordinate_descent_gram(\n",
      "/opt/anaconda3/envs/metis/lib/python3.8/site-packages/sklearn/linear_model/_coordinate_descent.py:526: ConvergenceWarning: Objective did not converge. You might want to increase the number of iterations. Duality gap: 0.006909070122738337, tolerance: 0.0005174898220588235\n",
      "  model = cd_fast.enet_coordinate_descent_gram(\n",
      "/opt/anaconda3/envs/metis/lib/python3.8/site-packages/sklearn/linear_model/_coordinate_descent.py:526: ConvergenceWarning: Objective did not converge. You might want to increase the number of iterations. Duality gap: 0.007654309564776307, tolerance: 0.0005174898220588235\n",
      "  model = cd_fast.enet_coordinate_descent_gram(\n",
      "/opt/anaconda3/envs/metis/lib/python3.8/site-packages/sklearn/linear_model/_coordinate_descent.py:526: ConvergenceWarning: Objective did not converge. You might want to increase the number of iterations. Duality gap: 0.010673169484819778, tolerance: 0.0005174898220588235\n",
      "  model = cd_fast.enet_coordinate_descent_gram(\n",
      "/opt/anaconda3/envs/metis/lib/python3.8/site-packages/sklearn/linear_model/_coordinate_descent.py:526: ConvergenceWarning: Objective did not converge. You might want to increase the number of iterations. Duality gap: 0.011462697108776676, tolerance: 0.0005174898220588235\n",
      "  model = cd_fast.enet_coordinate_descent_gram(\n",
      "/opt/anaconda3/envs/metis/lib/python3.8/site-packages/sklearn/linear_model/_coordinate_descent.py:526: ConvergenceWarning: Objective did not converge. You might want to increase the number of iterations. Duality gap: 0.010804212977383987, tolerance: 0.0005174898220588235\n",
      "  model = cd_fast.enet_coordinate_descent_gram(\n",
      "/opt/anaconda3/envs/metis/lib/python3.8/site-packages/sklearn/linear_model/_coordinate_descent.py:526: ConvergenceWarning: Objective did not converge. You might want to increase the number of iterations. Duality gap: 0.00959193430866434, tolerance: 0.0005174898220588235\n",
      "  model = cd_fast.enet_coordinate_descent_gram(\n",
      "/opt/anaconda3/envs/metis/lib/python3.8/site-packages/sklearn/linear_model/_coordinate_descent.py:526: ConvergenceWarning: Objective did not converge. You might want to increase the number of iterations. Duality gap: 0.011411754561300391, tolerance: 0.0005174898220588235\n",
      "  model = cd_fast.enet_coordinate_descent_gram(\n",
      "/opt/anaconda3/envs/metis/lib/python3.8/site-packages/sklearn/linear_model/_coordinate_descent.py:526: ConvergenceWarning: Objective did not converge. You might want to increase the number of iterations. Duality gap: 0.013392540578856305, tolerance: 0.0005174898220588235\n",
      "  model = cd_fast.enet_coordinate_descent_gram(\n",
      "/opt/anaconda3/envs/metis/lib/python3.8/site-packages/sklearn/linear_model/_coordinate_descent.py:526: ConvergenceWarning: Objective did not converge. You might want to increase the number of iterations. Duality gap: 0.013313007427055545, tolerance: 0.0005174898220588235\n",
      "  model = cd_fast.enet_coordinate_descent_gram(\n",
      "/opt/anaconda3/envs/metis/lib/python3.8/site-packages/sklearn/linear_model/_coordinate_descent.py:526: ConvergenceWarning: Objective did not converge. You might want to increase the number of iterations. Duality gap: 0.01169358464504322, tolerance: 0.0005174898220588235\n",
      "  model = cd_fast.enet_coordinate_descent_gram(\n",
      "/opt/anaconda3/envs/metis/lib/python3.8/site-packages/sklearn/linear_model/_coordinate_descent.py:526: ConvergenceWarning: Objective did not converge. You might want to increase the number of iterations. Duality gap: 0.0005762401692732677, tolerance: 0.0005361536908088235\n",
      "  model = cd_fast.enet_coordinate_descent_gram(\n",
      "/opt/anaconda3/envs/metis/lib/python3.8/site-packages/sklearn/linear_model/_coordinate_descent.py:526: ConvergenceWarning: Objective did not converge. You might want to increase the number of iterations. Duality gap: 0.0006077325016962121, tolerance: 0.0005361536908088235\n",
      "  model = cd_fast.enet_coordinate_descent_gram(\n",
      "/opt/anaconda3/envs/metis/lib/python3.8/site-packages/sklearn/linear_model/_coordinate_descent.py:526: ConvergenceWarning: Objective did not converge. You might want to increase the number of iterations. Duality gap: 0.0006120440247596726, tolerance: 0.0005361536908088235\n",
      "  model = cd_fast.enet_coordinate_descent_gram(\n",
      "/opt/anaconda3/envs/metis/lib/python3.8/site-packages/sklearn/linear_model/_coordinate_descent.py:526: ConvergenceWarning: Objective did not converge. You might want to increase the number of iterations. Duality gap: 0.0005996942302579633, tolerance: 0.0005361536908088235\n",
      "  model = cd_fast.enet_coordinate_descent_gram(\n",
      "/opt/anaconda3/envs/metis/lib/python3.8/site-packages/sklearn/linear_model/_coordinate_descent.py:526: ConvergenceWarning: Objective did not converge. You might want to increase the number of iterations. Duality gap: 0.0005774756640191114, tolerance: 0.0005361536908088235\n",
      "  model = cd_fast.enet_coordinate_descent_gram(\n",
      "/opt/anaconda3/envs/metis/lib/python3.8/site-packages/sklearn/linear_model/_coordinate_descent.py:526: ConvergenceWarning: Objective did not converge. You might want to increase the number of iterations. Duality gap: 0.0005496028665346042, tolerance: 0.0005361536908088235\n",
      "  model = cd_fast.enet_coordinate_descent_gram(\n",
      "/opt/anaconda3/envs/metis/lib/python3.8/site-packages/sklearn/linear_model/_coordinate_descent.py:526: ConvergenceWarning: Objective did not converge. You might want to increase the number of iterations. Duality gap: 0.0006475126466585213, tolerance: 0.0005361536908088235\n",
      "  model = cd_fast.enet_coordinate_descent_gram(\n",
      "/opt/anaconda3/envs/metis/lib/python3.8/site-packages/sklearn/linear_model/_coordinate_descent.py:526: ConvergenceWarning: Objective did not converge. You might want to increase the number of iterations. Duality gap: 0.0007713838291847352, tolerance: 0.0005361536908088235\n",
      "  model = cd_fast.enet_coordinate_descent_gram(\n",
      "/opt/anaconda3/envs/metis/lib/python3.8/site-packages/sklearn/linear_model/_coordinate_descent.py:526: ConvergenceWarning: Objective did not converge. You might want to increase the number of iterations. Duality gap: 0.0008379844355115296, tolerance: 0.0005361536908088235\n",
      "  model = cd_fast.enet_coordinate_descent_gram(\n",
      "/opt/anaconda3/envs/metis/lib/python3.8/site-packages/sklearn/linear_model/_coordinate_descent.py:526: ConvergenceWarning: Objective did not converge. You might want to increase the number of iterations. Duality gap: 0.0007753493679363288, tolerance: 0.0005361536908088235\n",
      "  model = cd_fast.enet_coordinate_descent_gram(\n",
      "/opt/anaconda3/envs/metis/lib/python3.8/site-packages/sklearn/linear_model/_coordinate_descent.py:526: ConvergenceWarning: Objective did not converge. You might want to increase the number of iterations. Duality gap: 0.0006451467663439736, tolerance: 0.0005361536908088235\n",
      "  model = cd_fast.enet_coordinate_descent_gram(\n",
      "/opt/anaconda3/envs/metis/lib/python3.8/site-packages/sklearn/linear_model/_coordinate_descent.py:526: ConvergenceWarning: Objective did not converge. You might want to increase the number of iterations. Duality gap: 0.000937342464976787, tolerance: 0.0005361536908088235\n",
      "  model = cd_fast.enet_coordinate_descent_gram(\n",
      "/opt/anaconda3/envs/metis/lib/python3.8/site-packages/sklearn/linear_model/_coordinate_descent.py:526: ConvergenceWarning: Objective did not converge. You might want to increase the number of iterations. Duality gap: 0.0009938365340280697, tolerance: 0.0005361536908088235\n",
      "  model = cd_fast.enet_coordinate_descent_gram(\n",
      "/opt/anaconda3/envs/metis/lib/python3.8/site-packages/sklearn/linear_model/_coordinate_descent.py:526: ConvergenceWarning: Objective did not converge. You might want to increase the number of iterations. Duality gap: 0.0011227999290395196, tolerance: 0.0005361536908088235\n",
      "  model = cd_fast.enet_coordinate_descent_gram(\n",
      "/opt/anaconda3/envs/metis/lib/python3.8/site-packages/sklearn/linear_model/_coordinate_descent.py:526: ConvergenceWarning: Objective did not converge. You might want to increase the number of iterations. Duality gap: 0.0013087427071454272, tolerance: 0.0005361536908088235\n",
      "  model = cd_fast.enet_coordinate_descent_gram(\n",
      "/opt/anaconda3/envs/metis/lib/python3.8/site-packages/sklearn/linear_model/_coordinate_descent.py:526: ConvergenceWarning: Objective did not converge. You might want to increase the number of iterations. Duality gap: 0.0014925219838897164, tolerance: 0.0005361536908088235\n",
      "  model = cd_fast.enet_coordinate_descent_gram(\n",
      "/opt/anaconda3/envs/metis/lib/python3.8/site-packages/sklearn/linear_model/_coordinate_descent.py:526: ConvergenceWarning: Objective did not converge. You might want to increase the number of iterations. Duality gap: 0.0005740514922618623, tolerance: 0.0005361536908088235\n",
      "  model = cd_fast.enet_coordinate_descent_gram(\n",
      "/opt/anaconda3/envs/metis/lib/python3.8/site-packages/sklearn/linear_model/_coordinate_descent.py:526: ConvergenceWarning: Objective did not converge. You might want to increase the number of iterations. Duality gap: 0.0012114524116633163, tolerance: 0.0005361536908088235\n",
      "  model = cd_fast.enet_coordinate_descent_gram(\n",
      "/opt/anaconda3/envs/metis/lib/python3.8/site-packages/sklearn/linear_model/_coordinate_descent.py:526: ConvergenceWarning: Objective did not converge. You might want to increase the number of iterations. Duality gap: 0.00121744843098881, tolerance: 0.0005361536908088235\n",
      "  model = cd_fast.enet_coordinate_descent_gram(\n",
      "/opt/anaconda3/envs/metis/lib/python3.8/site-packages/sklearn/linear_model/_coordinate_descent.py:526: ConvergenceWarning: Objective did not converge. You might want to increase the number of iterations. Duality gap: 0.0007470201812787014, tolerance: 0.0005361536908088235\n",
      "  model = cd_fast.enet_coordinate_descent_gram(\n",
      "/opt/anaconda3/envs/metis/lib/python3.8/site-packages/sklearn/linear_model/_coordinate_descent.py:526: ConvergenceWarning: Objective did not converge. You might want to increase the number of iterations. Duality gap: 0.001015712356170706, tolerance: 0.0005361536908088235\n",
      "  model = cd_fast.enet_coordinate_descent_gram(\n",
      "/opt/anaconda3/envs/metis/lib/python3.8/site-packages/sklearn/linear_model/_coordinate_descent.py:526: ConvergenceWarning: Objective did not converge. You might want to increase the number of iterations. Duality gap: 0.0015138855405354423, tolerance: 0.0005361536908088235\n",
      "  model = cd_fast.enet_coordinate_descent_gram(\n",
      "/opt/anaconda3/envs/metis/lib/python3.8/site-packages/sklearn/linear_model/_coordinate_descent.py:526: ConvergenceWarning: Objective did not converge. You might want to increase the number of iterations. Duality gap: 0.002375383589811708, tolerance: 0.0005361536908088235\n",
      "  model = cd_fast.enet_coordinate_descent_gram(\n",
      "/opt/anaconda3/envs/metis/lib/python3.8/site-packages/sklearn/linear_model/_coordinate_descent.py:526: ConvergenceWarning: Objective did not converge. You might want to increase the number of iterations. Duality gap: 0.0029484385692658543, tolerance: 0.0005361536908088235\n",
      "  model = cd_fast.enet_coordinate_descent_gram(\n",
      "/opt/anaconda3/envs/metis/lib/python3.8/site-packages/sklearn/linear_model/_coordinate_descent.py:526: ConvergenceWarning: Objective did not converge. You might want to increase the number of iterations. Duality gap: 0.005699900197923324, tolerance: 0.0005361536908088235\n",
      "  model = cd_fast.enet_coordinate_descent_gram(\n",
      "/opt/anaconda3/envs/metis/lib/python3.8/site-packages/sklearn/linear_model/_coordinate_descent.py:526: ConvergenceWarning: Objective did not converge. You might want to increase the number of iterations. Duality gap: 0.007219475185936242, tolerance: 0.0005361536908088235\n",
      "  model = cd_fast.enet_coordinate_descent_gram(\n",
      "/opt/anaconda3/envs/metis/lib/python3.8/site-packages/sklearn/linear_model/_coordinate_descent.py:526: ConvergenceWarning: Objective did not converge. You might want to increase the number of iterations. Duality gap: 0.009970164661176062, tolerance: 0.0005361536908088235\n",
      "  model = cd_fast.enet_coordinate_descent_gram(\n",
      "/opt/anaconda3/envs/metis/lib/python3.8/site-packages/sklearn/linear_model/_coordinate_descent.py:526: ConvergenceWarning: Objective did not converge. You might want to increase the number of iterations. Duality gap: 0.009937960242393018, tolerance: 0.0005361536908088235\n",
      "  model = cd_fast.enet_coordinate_descent_gram(\n",
      "/opt/anaconda3/envs/metis/lib/python3.8/site-packages/sklearn/linear_model/_coordinate_descent.py:526: ConvergenceWarning: Objective did not converge. You might want to increase the number of iterations. Duality gap: 0.009132236178551412, tolerance: 0.0005361536908088235\n",
      "  model = cd_fast.enet_coordinate_descent_gram(\n",
      "/opt/anaconda3/envs/metis/lib/python3.8/site-packages/sklearn/linear_model/_coordinate_descent.py:526: ConvergenceWarning: Objective did not converge. You might want to increase the number of iterations. Duality gap: 0.009829587325406841, tolerance: 0.0005361536908088235\n",
      "  model = cd_fast.enet_coordinate_descent_gram(\n",
      "/opt/anaconda3/envs/metis/lib/python3.8/site-packages/sklearn/linear_model/_coordinate_descent.py:526: ConvergenceWarning: Objective did not converge. You might want to increase the number of iterations. Duality gap: 0.013649583774670515, tolerance: 0.0005361536908088235\n",
      "  model = cd_fast.enet_coordinate_descent_gram(\n",
      "/opt/anaconda3/envs/metis/lib/python3.8/site-packages/sklearn/linear_model/_coordinate_descent.py:526: ConvergenceWarning: Objective did not converge. You might want to increase the number of iterations. Duality gap: 0.012618926165973265, tolerance: 0.0005361536908088235\n",
      "  model = cd_fast.enet_coordinate_descent_gram(\n",
      "/opt/anaconda3/envs/metis/lib/python3.8/site-packages/sklearn/linear_model/_coordinate_descent.py:526: ConvergenceWarning: Objective did not converge. You might want to increase the number of iterations. Duality gap: 0.0005786822254307822, tolerance: 0.000541197199632353\n",
      "  model = cd_fast.enet_coordinate_descent_gram(\n",
      "/opt/anaconda3/envs/metis/lib/python3.8/site-packages/sklearn/linear_model/_coordinate_descent.py:526: ConvergenceWarning: Objective did not converge. You might want to increase the number of iterations. Duality gap: 0.0005739147263095212, tolerance: 0.000541197199632353\n",
      "  model = cd_fast.enet_coordinate_descent_gram(\n",
      "/opt/anaconda3/envs/metis/lib/python3.8/site-packages/sklearn/linear_model/_coordinate_descent.py:526: ConvergenceWarning: Objective did not converge. You might want to increase the number of iterations. Duality gap: 0.000555617544981013, tolerance: 0.000541197199632353\n",
      "  model = cd_fast.enet_coordinate_descent_gram(\n",
      "/opt/anaconda3/envs/metis/lib/python3.8/site-packages/sklearn/linear_model/_coordinate_descent.py:526: ConvergenceWarning: Objective did not converge. You might want to increase the number of iterations. Duality gap: 0.0005435786232026452, tolerance: 0.000541197199632353\n",
      "  model = cd_fast.enet_coordinate_descent_gram(\n",
      "/opt/anaconda3/envs/metis/lib/python3.8/site-packages/sklearn/linear_model/_coordinate_descent.py:526: ConvergenceWarning: Objective did not converge. You might want to increase the number of iterations. Duality gap: 0.0006270617566503933, tolerance: 0.000541197199632353\n",
      "  model = cd_fast.enet_coordinate_descent_gram(\n",
      "/opt/anaconda3/envs/metis/lib/python3.8/site-packages/sklearn/linear_model/_coordinate_descent.py:526: ConvergenceWarning: Objective did not converge. You might want to increase the number of iterations. Duality gap: 0.0006245778107620836, tolerance: 0.000541197199632353\n",
      "  model = cd_fast.enet_coordinate_descent_gram(\n",
      "/opt/anaconda3/envs/metis/lib/python3.8/site-packages/sklearn/linear_model/_coordinate_descent.py:526: ConvergenceWarning: Objective did not converge. You might want to increase the number of iterations. Duality gap: 0.0007114567904615843, tolerance: 0.000541197199632353\n",
      "  model = cd_fast.enet_coordinate_descent_gram(\n",
      "/opt/anaconda3/envs/metis/lib/python3.8/site-packages/sklearn/linear_model/_coordinate_descent.py:526: ConvergenceWarning: Objective did not converge. You might want to increase the number of iterations. Duality gap: 0.0007849933183705637, tolerance: 0.000541197199632353\n",
      "  model = cd_fast.enet_coordinate_descent_gram(\n",
      "/opt/anaconda3/envs/metis/lib/python3.8/site-packages/sklearn/linear_model/_coordinate_descent.py:526: ConvergenceWarning: Objective did not converge. You might want to increase the number of iterations. Duality gap: 0.0008841775608929847, tolerance: 0.000541197199632353\n",
      "  model = cd_fast.enet_coordinate_descent_gram(\n",
      "/opt/anaconda3/envs/metis/lib/python3.8/site-packages/sklearn/linear_model/_coordinate_descent.py:526: ConvergenceWarning: Objective did not converge. You might want to increase the number of iterations. Duality gap: 0.000944578112263672, tolerance: 0.000541197199632353\n",
      "  model = cd_fast.enet_coordinate_descent_gram(\n",
      "/opt/anaconda3/envs/metis/lib/python3.8/site-packages/sklearn/linear_model/_coordinate_descent.py:526: ConvergenceWarning: Objective did not converge. You might want to increase the number of iterations. Duality gap: 0.0015742831640377375, tolerance: 0.000541197199632353\n",
      "  model = cd_fast.enet_coordinate_descent_gram(\n",
      "/opt/anaconda3/envs/metis/lib/python3.8/site-packages/sklearn/linear_model/_coordinate_descent.py:526: ConvergenceWarning: Objective did not converge. You might want to increase the number of iterations. Duality gap: 0.0019525699253754025, tolerance: 0.000541197199632353\n",
      "  model = cd_fast.enet_coordinate_descent_gram(\n",
      "/opt/anaconda3/envs/metis/lib/python3.8/site-packages/sklearn/linear_model/_coordinate_descent.py:526: ConvergenceWarning: Objective did not converge. You might want to increase the number of iterations. Duality gap: 0.0016698893332605103, tolerance: 0.000541197199632353\n",
      "  model = cd_fast.enet_coordinate_descent_gram(\n",
      "/opt/anaconda3/envs/metis/lib/python3.8/site-packages/sklearn/linear_model/_coordinate_descent.py:526: ConvergenceWarning: Objective did not converge. You might want to increase the number of iterations. Duality gap: 0.0006249358293308749, tolerance: 0.000541197199632353\n",
      "  model = cd_fast.enet_coordinate_descent_gram(\n",
      "/opt/anaconda3/envs/metis/lib/python3.8/site-packages/sklearn/linear_model/_coordinate_descent.py:526: ConvergenceWarning: Objective did not converge. You might want to increase the number of iterations. Duality gap: 0.001404680160750571, tolerance: 0.000541197199632353\n",
      "  model = cd_fast.enet_coordinate_descent_gram(\n",
      "/opt/anaconda3/envs/metis/lib/python3.8/site-packages/sklearn/linear_model/_coordinate_descent.py:526: ConvergenceWarning: Objective did not converge. You might want to increase the number of iterations. Duality gap: 0.0016439993714862933, tolerance: 0.000541197199632353\n",
      "  model = cd_fast.enet_coordinate_descent_gram(\n",
      "/opt/anaconda3/envs/metis/lib/python3.8/site-packages/sklearn/linear_model/_coordinate_descent.py:526: ConvergenceWarning: Objective did not converge. You might want to increase the number of iterations. Duality gap: 0.0024587076208490988, tolerance: 0.000541197199632353\n",
      "  model = cd_fast.enet_coordinate_descent_gram(\n",
      "/opt/anaconda3/envs/metis/lib/python3.8/site-packages/sklearn/linear_model/_coordinate_descent.py:526: ConvergenceWarning: Objective did not converge. You might want to increase the number of iterations. Duality gap: 0.005468837909163304, tolerance: 0.000541197199632353\n",
      "  model = cd_fast.enet_coordinate_descent_gram(\n",
      "/opt/anaconda3/envs/metis/lib/python3.8/site-packages/sklearn/linear_model/_coordinate_descent.py:526: ConvergenceWarning: Objective did not converge. You might want to increase the number of iterations. Duality gap: 0.003342568949164626, tolerance: 0.000541197199632353\n",
      "  model = cd_fast.enet_coordinate_descent_gram(\n",
      "/opt/anaconda3/envs/metis/lib/python3.8/site-packages/sklearn/linear_model/_coordinate_descent.py:526: ConvergenceWarning: Objective did not converge. You might want to increase the number of iterations. Duality gap: 0.00443875798038329, tolerance: 0.000541197199632353\n",
      "  model = cd_fast.enet_coordinate_descent_gram(\n",
      "/opt/anaconda3/envs/metis/lib/python3.8/site-packages/sklearn/linear_model/_coordinate_descent.py:526: ConvergenceWarning: Objective did not converge. You might want to increase the number of iterations. Duality gap: 0.005219484968753685, tolerance: 0.000541197199632353\n",
      "  model = cd_fast.enet_coordinate_descent_gram(\n",
      "/opt/anaconda3/envs/metis/lib/python3.8/site-packages/sklearn/linear_model/_coordinate_descent.py:526: ConvergenceWarning: Objective did not converge. You might want to increase the number of iterations. Duality gap: 0.004871516556765321, tolerance: 0.000541197199632353\n",
      "  model = cd_fast.enet_coordinate_descent_gram(\n",
      "/opt/anaconda3/envs/metis/lib/python3.8/site-packages/sklearn/linear_model/_coordinate_descent.py:526: ConvergenceWarning: Objective did not converge. You might want to increase the number of iterations. Duality gap: 0.007003247748173402, tolerance: 0.000541197199632353\n",
      "  model = cd_fast.enet_coordinate_descent_gram(\n",
      "/opt/anaconda3/envs/metis/lib/python3.8/site-packages/sklearn/linear_model/_coordinate_descent.py:526: ConvergenceWarning: Objective did not converge. You might want to increase the number of iterations. Duality gap: 0.012575270971623032, tolerance: 0.000541197199632353\n",
      "  model = cd_fast.enet_coordinate_descent_gram(\n",
      "/opt/anaconda3/envs/metis/lib/python3.8/site-packages/sklearn/linear_model/_coordinate_descent.py:526: ConvergenceWarning: Objective did not converge. You might want to increase the number of iterations. Duality gap: 0.017518845566463437, tolerance: 0.000541197199632353\n",
      "  model = cd_fast.enet_coordinate_descent_gram(\n",
      "/opt/anaconda3/envs/metis/lib/python3.8/site-packages/sklearn/linear_model/_coordinate_descent.py:526: ConvergenceWarning: Objective did not converge. You might want to increase the number of iterations. Duality gap: 0.018759658518748612, tolerance: 0.000541197199632353\n",
      "  model = cd_fast.enet_coordinate_descent_gram(\n",
      "/opt/anaconda3/envs/metis/lib/python3.8/site-packages/sklearn/linear_model/_coordinate_descent.py:526: ConvergenceWarning: Objective did not converge. You might want to increase the number of iterations. Duality gap: 0.021286851542375862, tolerance: 0.000541197199632353\n",
      "  model = cd_fast.enet_coordinate_descent_gram(\n",
      "/opt/anaconda3/envs/metis/lib/python3.8/site-packages/sklearn/linear_model/_coordinate_descent.py:530: ConvergenceWarning: Objective did not converge. You might want to increase the number of iterations. Duality gap: 0.007512845441249416, tolerance: 0.0006586745161764705\n",
      "  model = cd_fast.enet_coordinate_descent(\n"
     ]
    },
    {
     "data": {
      "text/plain": [
       "0.7995209595790302"
      ]
     },
     "execution_count": 112,
     "metadata": {},
     "output_type": "execute_result"
    }
   ],
   "source": [
    "scaler = StandardScaler()\n",
    "X_train_poly_scaled = scaler.fit_transform(X_train_poly)\n",
    "\n",
    "# Apply the same scaler to val set\n",
    "X_val_poly_scaled = scaler.transform(X_val_poly)\n",
    "\n",
    "# Fit a LASSO model using polynomial features\n",
    "lasso = LassoCV()\n",
    "lasso.fit(X_train_poly_scaled,y_train)\n",
    "lasso.score(X_train_poly_scaled,y_train)"
   ]
  },
  {
   "cell_type": "code",
   "execution_count": 113,
   "id": "989624fd",
   "metadata": {},
   "outputs": [
    {
     "data": {
      "text/plain": [
       "0.8290009192904452"
      ]
     },
     "execution_count": 113,
     "metadata": {},
     "output_type": "execute_result"
    }
   ],
   "source": [
    "lasso.score(X_val_poly_scaled, y_val)"
   ]
  },
  {
   "cell_type": "code",
   "execution_count": 137,
   "id": "6e2e24a6",
   "metadata": {},
   "outputs": [
    {
     "ename": "AttributeError",
     "evalue": "'LassoCV' object has no attribute 'get_feature_names'",
     "output_type": "error",
     "traceback": [
      "\u001b[0;31m---------------------------------------------------------------------------\u001b[0m",
      "\u001b[0;31mAttributeError\u001b[0m                            Traceback (most recent call last)",
      "\u001b[0;32m/var/folders/lr/f655_5zn7mx5qqp9f_36hm2m0000gn/T/ipykernel_69412/2867904384.py\u001b[0m in \u001b[0;36m<module>\u001b[0;34m\u001b[0m\n\u001b[0;32m----> 1\u001b[0;31m \u001b[0mlasso\u001b[0m\u001b[0;34m.\u001b[0m\u001b[0mget_feature_names\u001b[0m\u001b[0;34m(\u001b[0m\u001b[0;34m)\u001b[0m\u001b[0;34m\u001b[0m\u001b[0;34m\u001b[0m\u001b[0m\n\u001b[0m",
      "\u001b[0;31mAttributeError\u001b[0m: 'LassoCV' object has no attribute 'get_feature_names'"
     ]
    }
   ],
   "source": [
    "lasso.get_feature_names()"
   ]
  },
  {
   "cell_type": "code",
   "execution_count": null,
   "id": "5efaf774",
   "metadata": {},
   "outputs": [],
   "source": []
  },
  {
   "cell_type": "code",
   "execution_count": null,
   "id": "9616e8db",
   "metadata": {},
   "outputs": [],
   "source": []
  },
  {
   "cell_type": "code",
   "execution_count": null,
   "id": "b210d6a3",
   "metadata": {},
   "outputs": [],
   "source": []
  },
  {
   "cell_type": "code",
   "execution_count": null,
   "id": "0e0cd796",
   "metadata": {},
   "outputs": [],
   "source": []
  },
  {
   "cell_type": "code",
   "execution_count": null,
   "id": "cfc16dfb",
   "metadata": {},
   "outputs": [],
   "source": []
  },
  {
   "cell_type": "code",
   "execution_count": null,
   "id": "0816aac6",
   "metadata": {},
   "outputs": [],
   "source": []
  },
  {
   "cell_type": "code",
   "execution_count": null,
   "id": "66bb5662",
   "metadata": {},
   "outputs": [],
   "source": []
  },
  {
   "cell_type": "code",
   "execution_count": 114,
   "id": "ab6c411a",
   "metadata": {},
   "outputs": [],
   "source": [
    "from statsmodels.stats.outliers_influence import variance_inflation_factor"
   ]
  },
  {
   "cell_type": "code",
   "execution_count": 115,
   "id": "994fe68c",
   "metadata": {
    "scrolled": true
   },
   "outputs": [
    {
     "data": {
      "text/html": [
       "<div>\n",
       "<style scoped>\n",
       "    .dataframe tbody tr th:only-of-type {\n",
       "        vertical-align: middle;\n",
       "    }\n",
       "\n",
       "    .dataframe tbody tr th {\n",
       "        vertical-align: top;\n",
       "    }\n",
       "\n",
       "    .dataframe thead th {\n",
       "        text-align: right;\n",
       "    }\n",
       "</style>\n",
       "<table border=\"1\" class=\"dataframe\">\n",
       "  <thead>\n",
       "    <tr style=\"text-align: right;\">\n",
       "      <th></th>\n",
       "      <th>variables</th>\n",
       "      <th>vif</th>\n",
       "    </tr>\n",
       "  </thead>\n",
       "  <tbody>\n",
       "    <tr>\n",
       "      <th>0</th>\n",
       "      <td>PTS</td>\n",
       "      <td>1.760909e+06</td>\n",
       "    </tr>\n",
       "    <tr>\n",
       "      <th>1</th>\n",
       "      <td>FGM</td>\n",
       "      <td>1.044110e+06</td>\n",
       "    </tr>\n",
       "    <tr>\n",
       "      <th>2</th>\n",
       "      <td>FGA</td>\n",
       "      <td>4.563192e+04</td>\n",
       "    </tr>\n",
       "    <tr>\n",
       "      <th>3</th>\n",
       "      <td>FG%</td>\n",
       "      <td>4.528718e+04</td>\n",
       "    </tr>\n",
       "    <tr>\n",
       "      <th>4</th>\n",
       "      <td>3PM</td>\n",
       "      <td>1.415170e+04</td>\n",
       "    </tr>\n",
       "    <tr>\n",
       "      <th>5</th>\n",
       "      <td>3PA</td>\n",
       "      <td>4.031622e+03</td>\n",
       "    </tr>\n",
       "    <tr>\n",
       "      <th>6</th>\n",
       "      <td>3P%</td>\n",
       "      <td>3.433395e+03</td>\n",
       "    </tr>\n",
       "    <tr>\n",
       "      <th>7</th>\n",
       "      <td>FTM</td>\n",
       "      <td>8.755687e+04</td>\n",
       "    </tr>\n",
       "    <tr>\n",
       "      <th>8</th>\n",
       "      <td>FTA</td>\n",
       "      <td>3.607091e+04</td>\n",
       "    </tr>\n",
       "    <tr>\n",
       "      <th>9</th>\n",
       "      <td>FT%</td>\n",
       "      <td>3.714382e+04</td>\n",
       "    </tr>\n",
       "    <tr>\n",
       "      <th>10</th>\n",
       "      <td>OR</td>\n",
       "      <td>4.895667e+04</td>\n",
       "    </tr>\n",
       "    <tr>\n",
       "      <th>11</th>\n",
       "      <td>DR</td>\n",
       "      <td>4.040040e+05</td>\n",
       "    </tr>\n",
       "    <tr>\n",
       "      <th>12</th>\n",
       "      <td>REB</td>\n",
       "      <td>7.269115e+05</td>\n",
       "    </tr>\n",
       "    <tr>\n",
       "      <th>13</th>\n",
       "      <td>AST</td>\n",
       "      <td>2.578343e+02</td>\n",
       "    </tr>\n",
       "    <tr>\n",
       "      <th>14</th>\n",
       "      <td>STL</td>\n",
       "      <td>1.093062e+02</td>\n",
       "    </tr>\n",
       "    <tr>\n",
       "      <th>15</th>\n",
       "      <td>BLK</td>\n",
       "      <td>4.835255e+01</td>\n",
       "    </tr>\n",
       "    <tr>\n",
       "      <th>16</th>\n",
       "      <td>TO</td>\n",
       "      <td>2.427273e+02</td>\n",
       "    </tr>\n",
       "    <tr>\n",
       "      <th>17</th>\n",
       "      <td>PF</td>\n",
       "      <td>2.911024e+02</td>\n",
       "    </tr>\n",
       "  </tbody>\n",
       "</table>\n",
       "</div>"
      ],
      "text/plain": [
       "   variables           vif\n",
       "0        PTS  1.760909e+06\n",
       "1        FGM  1.044110e+06\n",
       "2        FGA  4.563192e+04\n",
       "3        FG%  4.528718e+04\n",
       "4        3PM  1.415170e+04\n",
       "5        3PA  4.031622e+03\n",
       "6        3P%  3.433395e+03\n",
       "7        FTM  8.755687e+04\n",
       "8        FTA  3.607091e+04\n",
       "9        FT%  3.714382e+04\n",
       "10        OR  4.895667e+04\n",
       "11        DR  4.040040e+05\n",
       "12       REB  7.269115e+05\n",
       "13       AST  2.578343e+02\n",
       "14       STL  1.093062e+02\n",
       "15       BLK  4.835255e+01\n",
       "16        TO  2.427273e+02\n",
       "17        PF  2.911024e+02"
      ]
     },
     "execution_count": 115,
     "metadata": {},
     "output_type": "execute_result"
    }
   ],
   "source": [
    "vif = pd.DataFrame()\n",
    "vif['variables'] = X.columns\n",
    "vif['vif'] =[variance_inflation_factor(X.values, i) for i in range(X.shape[1])]\n",
    "vif"
   ]
  },
  {
   "cell_type": "code",
   "execution_count": 116,
   "id": "dc7b5eb9",
   "metadata": {},
   "outputs": [],
   "source": [
    "from sklearn.linear_model import Lasso, Ridge, ElasticNet, LinearRegression\n",
    "from sklearn.model_selection import (cross_val_score, train_test_split, \n",
    "                                     KFold, GridSearchCV)"
   ]
  },
  {
   "cell_type": "code",
   "execution_count": 117,
   "id": "c44ed5f0",
   "metadata": {},
   "outputs": [],
   "source": [
    "X_train, X_holdout, y_train, y_holdout = train_test_split(X, y, test_size=0.1, random_state=42)\n",
    "\n"
   ]
  },
  {
   "cell_type": "code",
   "execution_count": 118,
   "id": "3ac55107",
   "metadata": {},
   "outputs": [],
   "source": [
    "kfold = KFold(n_splits=5, shuffle=True, random_state=0)"
   ]
  },
  {
   "cell_type": "code",
   "execution_count": 119,
   "id": "966bee27",
   "metadata": {},
   "outputs": [
    {
     "name": "stdout",
     "output_type": "stream",
     "text": [
      "[0.74347548 0.78119653 0.80416038 0.77312461 0.82209567]\n",
      "Linear Reg Mean Score:  0.7848105319521108\n"
     ]
    }
   ],
   "source": [
    "lin_reg_est = LinearRegression()\n",
    "\n",
    "scores = cross_val_score(lin_reg_est, X_train, y_train, cv=kfold)\n",
    "print(scores)\n",
    "print(\"Linear Reg Mean Score: \", np.mean(scores))"
   ]
  },
  {
   "cell_type": "code",
   "execution_count": 120,
   "id": "b6a316ce",
   "metadata": {},
   "outputs": [
    {
     "data": {
      "text/plain": [
       "LinearRegression()"
      ]
     },
     "execution_count": 120,
     "metadata": {},
     "output_type": "execute_result"
    }
   ],
   "source": [
    "lin_reg_est.fit(X_train, y_train)"
   ]
  },
  {
   "cell_type": "code",
   "execution_count": 121,
   "id": "c0bb9766",
   "metadata": {},
   "outputs": [
    {
     "data": {
      "text/plain": [
       "[<matplotlib.lines.Line2D at 0x7fe69c6d0460>]"
      ]
     },
     "execution_count": 121,
     "metadata": {},
     "output_type": "execute_result"
    },
    {
     "data": {
      "image/png": "[encoded data removed]",
      "text/plain": [
       "<Figure size 432x288 with 1 Axes>"
      ]
     },
     "metadata": {
      "needs_background": "light"
     },
     "output_type": "display_data"
    }
   ],
   "source": [
    "y_train_pred = lin_reg_est.predict(X_train)\n",
    "\n",
    "plt.scatter(y_train, y_train_pred, alpha=0.2)\n",
    "plt.plot([0, 1], [0, 1])"
   ]
  },
  {
   "cell_type": "code",
   "execution_count": 122,
   "id": "e3a2624d",
   "metadata": {},
   "outputs": [
    {
     "data": {
      "text/plain": [
       "[<matplotlib.lines.Line2D at 0x7fe69c7310a0>]"
      ]
     },
     "execution_count": 122,
     "metadata": {},
     "output_type": "execute_result"
    },
    {
     "data": {
      "image/png": "[encoded data removed]",
      "text/plain": [
       "<Figure size 432x288 with 1 Axes>"
      ]
     },
     "metadata": {
      "needs_background": "light"
     },
     "output_type": "display_data"
    }
   ],
   "source": [
    "y_test_pred = lin_reg_est.predict(X_holdout)\n",
    "\n",
    "plt.scatter(y_holdout, y_test_pred)\n",
    "plt.plot([0, 1], [0, 1])"
   ]
  },
  {
   "cell_type": "code",
   "execution_count": 143,
   "id": "e882f72a",
   "metadata": {},
   "outputs": [
    {
     "data": {
      "text/plain": [
       "Text(0, 0.5, 'Residuals')"
      ]
     },
     "execution_count": 143,
     "metadata": {},
     "output_type": "execute_result"
    },
    {
     "data": {
      "image/png": "[encoded data removed]",
      "text/plain": [
       "<Figure size 432x288 with 1 Axes>"
      ]
     },
     "metadata": {
      "needs_background": "light"
     },
     "output_type": "display_data"
    }
   ],
   "source": [
    "lin_reg_residuals = y_train - y_train_pred\n",
    "\n",
    "plt.scatter(y_train_pred, lin_reg_residuals, marker=\"+\", alpha=0.5)\n",
    "plt.plot([0,1], [0, 0])\n",
    "plt.title(\"Residuals vs. Predictions\")\n",
    "plt.xlabel(\"Predictions\")\n",
    "plt.ylabel(\"Residuals\")"
   ]
  },
  {
   "cell_type": "code",
   "execution_count": null,
   "id": "56b6c17d",
   "metadata": {},
   "outputs": [],
   "source": []
  },
  {
   "cell_type": "code",
   "execution_count": null,
   "id": "a0c03caa",
   "metadata": {},
   "outputs": [],
   "source": []
  },
  {
   "cell_type": "code",
   "execution_count": null,
   "id": "24359bac",
   "metadata": {},
   "outputs": [],
   "source": []
  },
  {
   "cell_type": "code",
   "execution_count": null,
   "id": "54c8d25f",
   "metadata": {},
   "outputs": [],
   "source": []
  },
  {
   "cell_type": "code",
   "execution_count": null,
   "id": "87221be4",
   "metadata": {},
   "outputs": [],
   "source": []
  },
  {
   "cell_type": "code",
   "execution_count": null,
   "id": "d46bd4b3",
   "metadata": {},
   "outputs": [],
   "source": []
  },
  {
   "cell_type": "code",
   "execution_count": null,
   "id": "35a68967",
   "metadata": {},
   "outputs": [],
   "source": []
  },
  {
   "cell_type": "code",
   "execution_count": null,
   "id": "4b1143fc",
   "metadata": {},
   "outputs": [],
   "source": []
  },
  {
   "cell_type": "code",
   "execution_count": 124,
   "id": "e038d49d",
   "metadata": {},
   "outputs": [
    {
     "data": {
      "text/plain": [
       "Lasso(alpha=0.000412847323771536)"
      ]
     },
     "execution_count": 124,
     "metadata": {},
     "output_type": "execute_result"
    }
   ],
   "source": [
    "grid_est.best_estimator_"
   ]
  },
  {
   "cell_type": "code",
   "execution_count": 125,
   "id": "e7c0194d",
   "metadata": {},
   "outputs": [
    {
     "data": {
      "text/plain": [
       "array([1.00000000e-04, 1.60421716e-04, 2.57351270e-04, 4.12847324e-04,\n",
       "       6.62296762e-04, 1.06246783e-03, 1.70442913e-03, 2.73427446e-03,\n",
       "       4.38637001e-03, 7.03669004e-03, 1.12883789e-02, 1.81090112e-02,\n",
       "       2.90507865e-02, 4.66037703e-02, 7.47625680e-02, 1.19935395e-01,\n",
       "       1.92402418e-01, 3.08655261e-01, 4.95150067e-01, 7.94328235e-01])"
      ]
     },
     "execution_count": 125,
     "metadata": {},
     "output_type": "execute_result"
    }
   ],
   "source": [
    "params['alpha']"
   ]
  },
  {
   "cell_type": "code",
   "execution_count": 126,
   "id": "e22f5d9c",
   "metadata": {},
   "outputs": [
    {
     "data": {
      "text/plain": [
       "array([[111.3,  40.1,  85.1, ...,   4. ,  14.6,  20.4],\n",
       "       [101.5,  37.8,  77.7, ...,   5.8,  13.7,  22.1],\n",
       "       [ 93.2,  37.3,  84.1, ...,   4.7,  12.6,  18.4],\n",
       "       ...,\n",
       "       [115.1,  43.3,  89.2, ...,   4.5,  12.8,  19.1],\n",
       "       [104.3,  39.5,  85.4, ...,   5. ,  14.9,  21.8],\n",
       "       [ 94.9,  35.9,  78.2, ...,   4.4,  13. ,  21. ]])"
      ]
     },
     "execution_count": 126,
     "metadata": {},
     "output_type": "execute_result"
    }
   ],
   "source": [
    "np.array(X)"
   ]
  },
  {
   "cell_type": "code",
   "execution_count": null,
   "id": "3223b3af",
   "metadata": {},
   "outputs": [],
   "source": []
  },
  {
   "cell_type": "code",
   "execution_count": 127,
   "id": "94d9cd57",
   "metadata": {},
   "outputs": [],
   "source": [
    "from sklearn import linear_model\n",
    "from sklearn.metrics import mean_squared_error, r2_score"
   ]
  },
  {
   "cell_type": "code",
   "execution_count": 128,
   "id": "698d8c37",
   "metadata": {},
   "outputs": [],
   "source": [
    "model = linear_model.LinearRegression()"
   ]
  },
  {
   "cell_type": "code",
   "execution_count": 129,
   "id": "277cba83",
   "metadata": {},
   "outputs": [
    {
     "data": {
      "text/plain": [
       "LinearRegression()"
      ]
     },
     "execution_count": 129,
     "metadata": {},
     "output_type": "execute_result"
    }
   ],
   "source": [
    "model.fit(X_train, y_train)"
   ]
  },
  {
   "cell_type": "code",
   "execution_count": 130,
   "id": "a9a22b4e",
   "metadata": {
    "scrolled": true
   },
   "outputs": [],
   "source": [
    "Y_pred = model.predict(X_test)"
   ]
  },
  {
   "cell_type": "code",
   "execution_count": 140,
   "id": "47ac8141",
   "metadata": {},
   "outputs": [
    {
     "name": "stdout",
     "output_type": "stream",
     "text": [
      "Coefficients: [ 0.09283481 -0.10093272 -0.07948285 -0.03455448 -0.08694555  0.00422897\n",
      "  0.01181866 -0.09601566  0.00154172  0.0074598   0.04663541  0.02444204\n",
      "  0.02192447  0.00902719  0.05779492  0.00689986 -0.05339097  0.00169661]\n",
      "Intercept: 2.197145603361833\n",
      "Mean Squared Error (MSE): 0.005228883573799033\n",
      "Coefficient of Determination (R^2): 0.8089585655315511\n"
     ]
    }
   ],
   "source": [
    "print(\"Coefficients:\", model.coef_)\n",
    "print(\"Intercept:\", model.intercept_)\n",
    "print(\"Mean Squared Error (MSE):\", mean_squared_error(y_test, Y_pred))\n",
    "print(\"Coefficient of Determination (R^2):\", r2_score(y_test, Y_pred))"
   ]
  },
  {
   "cell_type": "code",
   "execution_count": 180,
   "id": "5f8b0ee5",
   "metadata": {
    "scrolled": true
   },
   "outputs": [
    {
     "name": "stderr",
     "output_type": "stream",
     "text": [
      "/opt/anaconda3/envs/metis/lib/python3.8/site-packages/seaborn/_decorators.py:36: FutureWarning: Pass the following variables as keyword args: x, y. From version 0.12, the only valid positional argument will be `data`, and passing other arguments without an explicit keyword will result in an error or misinterpretation.\n",
      "  warnings.warn(\n",
      "/opt/anaconda3/envs/metis/lib/python3.8/site-packages/seaborn/relational.py:651: UserWarning: You passed a edgecolor/edgecolors ('w') for an unfilled marker ('+').  Matplotlib is ignoring the edgecolor in favor of the facecolor.  This behavior may change in the future.\n",
      "  points = ax.scatter(*args, **kws)\n"
     ]
    },
    {
     "data": {
      "image/png": "[encoded data removed]",
      "text/plain": [
       "<Figure size 432x288 with 1 Axes>"
      ]
     },
     "metadata": {},
     "output_type": "display_data"
    }
   ],
   "source": [
    "sns.scatterplot(y_test, Y_pred, marker=\"+\", alpha=0.5)\n",
    "sns.set(style=\"darkgrid\")\n",
    "plt.title(\"Test vs. Predictor\")\n",
    "plt.xlabel(\"WP - Test\")\n",
    "plt.ylabel(\"WP - Predict\")\n",
    "plt.show()"
   ]
  },
  {
   "cell_type": "code",
   "execution_count": 172,
   "id": "963997d8",
   "metadata": {},
   "outputs": [
    {
     "data": {
      "text/plain": [
       "Team_Name\n",
       "Boston Celtics         0.591\n",
       "Dallas Mavericks       0.583\n",
       "Seattle SuperSonics    0.378\n",
       "Toronto Raptors        0.329\n",
       "Boston Celtics         0.500\n",
       "Name: WP, dtype: float64"
      ]
     },
     "execution_count": 172,
     "metadata": {},
     "output_type": "execute_result"
    }
   ],
   "source": [
    "y_test.head()"
   ]
  },
  {
   "cell_type": "code",
   "execution_count": 174,
   "id": "029d5da1",
   "metadata": {},
   "outputs": [
    {
     "data": {
      "text/plain": [
       "array([0.46781031, 0.57282595, 0.39027585, 0.37559138, 0.56295901,\n",
       "       0.29293791, 0.38730419, 0.58159112, 0.62005287, 0.83532719,\n",
       "       0.703775  , 0.83031735, 0.43949106, 0.30622902, 0.2425076 ,\n",
       "       0.81319835, 0.41876214, 0.48406673, 0.44577545, 0.4356258 ,\n",
       "       0.59456627, 0.66465859, 0.36391208, 0.76749821, 0.59240243,\n",
       "       0.41179626, 0.47356615, 0.43492864, 0.43780247, 0.56237292,\n",
       "       0.30544296, 0.30847538, 0.60434118, 0.248672  , 0.48736104,\n",
       "       0.37062504, 0.50119463, 0.5015645 , 0.43295539, 0.54358178,\n",
       "       0.31856374, 0.4824531 , 0.31103046, 0.478886  , 0.69982653,\n",
       "       0.66048961, 0.41877611, 0.3939613 , 0.36781764, 0.35514265,\n",
       "       0.7063421 , 0.25630358, 0.60076322, 0.35845456, 0.31139797,\n",
       "       0.44788764, 0.53932936, 0.46055073, 0.4825297 , 0.32185455,\n",
       "       0.56745738, 0.52033885, 0.56448214, 0.34334454, 0.30693435,\n",
       "       0.64659935, 0.56038341, 0.58339512, 0.5786914 , 0.64280941,\n",
       "       0.40083527, 0.60514721, 0.50566003, 0.28690133, 0.40850876,\n",
       "       0.60621499, 0.38270416, 0.59834647, 0.62663826, 0.67331875,\n",
       "       0.70594049, 0.4825218 , 0.57805448, 0.56422843, 0.47304471,\n",
       "       0.68241402, 0.49046809, 0.47872175, 0.5510413 , 0.32463307,\n",
       "       0.60197599, 0.70556506, 0.59023236, 0.40477971, 0.35702037,\n",
       "       0.77898355, 0.69732016, 0.65418701, 0.51251931, 0.56571268,\n",
       "       0.63931091, 0.44931081, 0.55724039, 0.24822678, 0.2618105 ,\n",
       "       0.52390817, 0.52404297, 0.60019381, 0.68244626, 0.64749079,\n",
       "       0.26850442, 0.43488934, 0.58684797, 0.50801273])"
      ]
     },
     "execution_count": 174,
     "metadata": {},
     "output_type": "execute_result"
    }
   ],
   "source": [
    "Y_pred"
   ]
  },
  {
   "cell_type": "code",
   "execution_count": null,
   "id": "4ea3aa80",
   "metadata": {},
   "outputs": [],
   "source": []
  },
  {
   "cell_type": "code",
   "execution_count": null,
   "id": "d4ab17c4",
   "metadata": {},
   "outputs": [],
   "source": []
  },
  {
   "cell_type": "code",
   "execution_count": 147,
   "id": "c1c321d0",
   "metadata": {},
   "outputs": [
    {
     "name": "stderr",
     "output_type": "stream",
     "text": [
      "/opt/anaconda3/envs/metis/lib/python3.8/site-packages/statsmodels/tsa/tsatools.py:142: FutureWarning: In a future version of pandas all arguments of concat except for the argument 'objs' will be keyword-only\n",
      "  x = pd.concat(x[::order], 1)\n"
     ]
    },
    {
     "data": {
      "text/html": [
       "<table class=\"simpletable\">\n",
       "<caption>OLS Regression Results</caption>\n",
       "<tr>\n",
       "  <th>Dep. Variable:</th>           <td>WP</td>        <th>  R-squared:         </th> <td>   0.813</td> \n",
       "</tr>\n",
       "<tr>\n",
       "  <th>Model:</th>                   <td>OLS</td>       <th>  Adj. R-squared:    </th> <td>   0.804</td> \n",
       "</tr>\n",
       "<tr>\n",
       "  <th>Method:</th>             <td>Least Squares</td>  <th>  F-statistic:       </th> <td>   93.98</td> \n",
       "</tr>\n",
       "<tr>\n",
       "  <th>Date:</th>             <td>Tue, 12 Oct 2021</td> <th>  Prob (F-statistic):</th> <td>2.66e-129</td>\n",
       "</tr>\n",
       "<tr>\n",
       "  <th>Time:</th>                 <td>05:50:46</td>     <th>  Log-Likelihood:    </th> <td>  551.77</td> \n",
       "</tr>\n",
       "<tr>\n",
       "  <th>No. Observations:</th>      <td>   408</td>      <th>  AIC:               </th> <td>  -1066.</td> \n",
       "</tr>\n",
       "<tr>\n",
       "  <th>Df Residuals:</th>          <td>   389</td>      <th>  BIC:               </th> <td>  -989.3</td> \n",
       "</tr>\n",
       "<tr>\n",
       "  <th>Df Model:</th>              <td>    18</td>      <th>                     </th>     <td> </td>    \n",
       "</tr>\n",
       "<tr>\n",
       "  <th>Covariance Type:</th>      <td>nonrobust</td>    <th>                     </th>     <td> </td>    \n",
       "</tr>\n",
       "</table>\n",
       "<table class=\"simpletable\">\n",
       "<tr>\n",
       "    <td></td>       <th>coef</th>     <th>std err</th>      <th>t</th>      <th>P>|t|</th>  <th>[0.025</th>    <th>0.975]</th>  \n",
       "</tr>\n",
       "<tr>\n",
       "  <th>const</th> <td>    2.1971</td> <td>    1.889</td> <td>    1.163</td> <td> 0.246</td> <td>   -1.517</td> <td>    5.911</td>\n",
       "</tr>\n",
       "<tr>\n",
       "  <th>PTS</th>   <td>    0.0928</td> <td>    0.044</td> <td>    2.131</td> <td> 0.034</td> <td>    0.007</td> <td>    0.178</td>\n",
       "</tr>\n",
       "<tr>\n",
       "  <th>FGM</th>   <td>   -0.1009</td> <td>    0.090</td> <td>   -1.125</td> <td> 0.261</td> <td>   -0.277</td> <td>    0.075</td>\n",
       "</tr>\n",
       "<tr>\n",
       "  <th>FGA</th>   <td>   -0.0795</td> <td>    0.021</td> <td>   -3.703</td> <td> 0.000</td> <td>   -0.122</td> <td>   -0.037</td>\n",
       "</tr>\n",
       "<tr>\n",
       "  <th>FG%</th>   <td>   -0.0346</td> <td>    0.039</td> <td>   -0.897</td> <td> 0.370</td> <td>   -0.110</td> <td>    0.041</td>\n",
       "</tr>\n",
       "<tr>\n",
       "  <th>3PM</th>   <td>   -0.0869</td> <td>    0.049</td> <td>   -1.781</td> <td> 0.076</td> <td>   -0.183</td> <td>    0.009</td>\n",
       "</tr>\n",
       "<tr>\n",
       "  <th>3PA</th>   <td>    0.0042</td> <td>    0.009</td> <td>    0.473</td> <td> 0.637</td> <td>   -0.013</td> <td>    0.022</td>\n",
       "</tr>\n",
       "<tr>\n",
       "  <th>3P%</th>   <td>    0.0118</td> <td>    0.005</td> <td>    2.219</td> <td> 0.027</td> <td>    0.001</td> <td>    0.022</td>\n",
       "</tr>\n",
       "<tr>\n",
       "  <th>FTM</th>   <td>   -0.0960</td> <td>    0.052</td> <td>   -1.835</td> <td> 0.067</td> <td>   -0.199</td> <td>    0.007</td>\n",
       "</tr>\n",
       "<tr>\n",
       "  <th>FTA</th>   <td>    0.0015</td> <td>    0.028</td> <td>    0.056</td> <td> 0.956</td> <td>   -0.053</td> <td>    0.056</td>\n",
       "</tr>\n",
       "<tr>\n",
       "  <th>FT%</th>   <td>    0.0075</td> <td>    0.009</td> <td>    0.829</td> <td> 0.408</td> <td>   -0.010</td> <td>    0.025</td>\n",
       "</tr>\n",
       "<tr>\n",
       "  <th>OR</th>    <td>    0.0466</td> <td>    0.065</td> <td>    0.713</td> <td> 0.476</td> <td>   -0.082</td> <td>    0.175</td>\n",
       "</tr>\n",
       "<tr>\n",
       "  <th>DR</th>    <td>    0.0244</td> <td>    0.065</td> <td>    0.375</td> <td> 0.708</td> <td>   -0.104</td> <td>    0.153</td>\n",
       "</tr>\n",
       "<tr>\n",
       "  <th>REB</th>   <td>    0.0219</td> <td>    0.065</td> <td>    0.337</td> <td> 0.736</td> <td>   -0.106</td> <td>    0.150</td>\n",
       "</tr>\n",
       "<tr>\n",
       "  <th>AST</th>   <td>    0.0090</td> <td>    0.002</td> <td>    3.869</td> <td> 0.000</td> <td>    0.004</td> <td>    0.014</td>\n",
       "</tr>\n",
       "<tr>\n",
       "  <th>STL</th>   <td>    0.0578</td> <td>    0.004</td> <td>   13.118</td> <td> 0.000</td> <td>    0.049</td> <td>    0.066</td>\n",
       "</tr>\n",
       "<tr>\n",
       "  <th>BLK</th>   <td>    0.0069</td> <td>    0.004</td> <td>    1.557</td> <td> 0.120</td> <td>   -0.002</td> <td>    0.016</td>\n",
       "</tr>\n",
       "<tr>\n",
       "  <th>TO</th>    <td>   -0.0534</td> <td>    0.003</td> <td>  -15.326</td> <td> 0.000</td> <td>   -0.060</td> <td>   -0.047</td>\n",
       "</tr>\n",
       "<tr>\n",
       "  <th>PF</th>    <td>    0.0017</td> <td>    0.003</td> <td>    0.656</td> <td> 0.512</td> <td>   -0.003</td> <td>    0.007</td>\n",
       "</tr>\n",
       "</table>\n",
       "<table class=\"simpletable\">\n",
       "<tr>\n",
       "  <th>Omnibus:</th>       <td> 0.464</td> <th>  Durbin-Watson:     </th> <td>   2.246</td>\n",
       "</tr>\n",
       "<tr>\n",
       "  <th>Prob(Omnibus):</th> <td> 0.793</td> <th>  Jarque-Bera (JB):  </th> <td>   0.275</td>\n",
       "</tr>\n",
       "<tr>\n",
       "  <th>Skew:</th>          <td>-0.001</td> <th>  Prob(JB):          </th> <td>   0.871</td>\n",
       "</tr>\n",
       "<tr>\n",
       "  <th>Kurtosis:</th>      <td> 3.127</td> <th>  Cond. No.          </th> <td>1.09e+05</td>\n",
       "</tr>\n",
       "</table><br/><br/>Notes:<br/>[1] Standard Errors assume that the covariance matrix of the errors is correctly specified.<br/>[2] The condition number is large, 1.09e+05. This might indicate that there are<br/>strong multicollinearity or other numerical problems."
      ],
      "text/plain": [
       "<class 'statsmodels.iolib.summary.Summary'>\n",
       "\"\"\"\n",
       "                            OLS Regression Results                            \n",
       "==============================================================================\n",
       "Dep. Variable:                     WP   R-squared:                       0.813\n",
       "Model:                            OLS   Adj. R-squared:                  0.804\n",
       "Method:                 Least Squares   F-statistic:                     93.98\n",
       "Date:                Tue, 12 Oct 2021   Prob (F-statistic):          2.66e-129\n",
       "Time:                        05:50:46   Log-Likelihood:                 551.77\n",
       "No. Observations:                 408   AIC:                            -1066.\n",
       "Df Residuals:                     389   BIC:                            -989.3\n",
       "Df Model:                          18                                         \n",
       "Covariance Type:            nonrobust                                         \n",
       "==============================================================================\n",
       "                 coef    std err          t      P>|t|      [0.025      0.975]\n",
       "------------------------------------------------------------------------------\n",
       "const          2.1971      1.889      1.163      0.246      -1.517       5.911\n",
       "PTS            0.0928      0.044      2.131      0.034       0.007       0.178\n",
       "FGM           -0.1009      0.090     -1.125      0.261      -0.277       0.075\n",
       "FGA           -0.0795      0.021     -3.703      0.000      -0.122      -0.037\n",
       "FG%           -0.0346      0.039     -0.897      0.370      -0.110       0.041\n",
       "3PM           -0.0869      0.049     -1.781      0.076      -0.183       0.009\n",
       "3PA            0.0042      0.009      0.473      0.637      -0.013       0.022\n",
       "3P%            0.0118      0.005      2.219      0.027       0.001       0.022\n",
       "FTM           -0.0960      0.052     -1.835      0.067      -0.199       0.007\n",
       "FTA            0.0015      0.028      0.056      0.956      -0.053       0.056\n",
       "FT%            0.0075      0.009      0.829      0.408      -0.010       0.025\n",
       "OR             0.0466      0.065      0.713      0.476      -0.082       0.175\n",
       "DR             0.0244      0.065      0.375      0.708      -0.104       0.153\n",
       "REB            0.0219      0.065      0.337      0.736      -0.106       0.150\n",
       "AST            0.0090      0.002      3.869      0.000       0.004       0.014\n",
       "STL            0.0578      0.004     13.118      0.000       0.049       0.066\n",
       "BLK            0.0069      0.004      1.557      0.120      -0.002       0.016\n",
       "TO            -0.0534      0.003    -15.326      0.000      -0.060      -0.047\n",
       "PF             0.0017      0.003      0.656      0.512      -0.003       0.007\n",
       "==============================================================================\n",
       "Omnibus:                        0.464   Durbin-Watson:                   2.246\n",
       "Prob(Omnibus):                  0.793   Jarque-Bera (JB):                0.275\n",
       "Skew:                          -0.001   Prob(JB):                        0.871\n",
       "Kurtosis:                       3.127   Cond. No.                     1.09e+05\n",
       "==============================================================================\n",
       "\n",
       "Notes:\n",
       "[1] Standard Errors assume that the covariance matrix of the errors is correctly specified.\n",
       "[2] The condition number is large, 1.09e+05. This might indicate that there are\n",
       "strong multicollinearity or other numerical problems.\n",
       "\"\"\""
      ]
     },
     "execution_count": 147,
     "metadata": {},
     "output_type": "execute_result"
    }
   ],
   "source": [
    "import statsmodels.api as sm\n",
    "\n",
    "model_1 = sm.OLS(y_train, sm.add_constant(X_train)).fit()\n",
    "model_1.summary()"
   ]
  },
  {
   "cell_type": "code",
   "execution_count": 148,
   "id": "7dade734",
   "metadata": {},
   "outputs": [],
   "source": [
    "influence = model_1.get_influence()\n",
    "inf_summary = influence.summary_frame()\n",
    "leverage = influence.hat_matrix_diag\n",
    "import matplotlib.pyplot as plt"
   ]
  },
  {
   "cell_type": "code",
   "execution_count": 150,
   "id": "d166030c",
   "metadata": {},
   "outputs": [
    {
     "data": {
      "text/plain": [
       "Text(0, 0.5, 'Studentized Residuals')"
      ]
     },
     "execution_count": 150,
     "metadata": {},
     "output_type": "execute_result"
    },
    {
     "data": {
      "image/png": "[encoded data removed]",
      "text/plain": [
       "<Figure size 432x288 with 1 Axes>"
      ]
     },
     "metadata": {
      "needs_background": "light"
     },
     "output_type": "display_data"
    }
   ],
   "source": [
    "sns.regplot(leverage, model_1.resid_pearson, fit_reg=False, marker=\"+\")\n",
    "plt.title('Leverage vs Studentized Residuals')\n",
    "plt.xlabel('Leverage')\n",
    "plt.ylabel('Studentized Residuals')"
   ]
  },
  {
   "cell_type": "code",
   "execution_count": null,
   "id": "b71d035d",
   "metadata": {},
   "outputs": [],
   "source": []
  },
  {
   "cell_type": "code",
   "execution_count": null,
   "id": "d4463238",
   "metadata": {},
   "outputs": [],
   "source": []
  },
  {
   "cell_type": "code",
   "execution_count": null,
   "id": "6dea6b67",
   "metadata": {},
   "outputs": [],
   "source": []
  },
  {
   "cell_type": "code",
   "execution_count": null,
   "id": "5d31f7bd",
   "metadata": {},
   "outputs": [],
   "source": []
  },
  {
   "cell_type": "code",
   "execution_count": null,
   "id": "0d2c9b88",
   "metadata": {},
   "outputs": [],
   "source": []
  },
  {
   "cell_type": "code",
   "execution_count": null,
   "id": "4a80ac43",
   "metadata": {},
   "outputs": [],
   "source": []
  },
  {
   "cell_type": "code",
   "execution_count": null,
   "id": "696cac7e",
   "metadata": {},
   "outputs": [],
   "source": []
  }
 ],
 "metadata": {
  "kernelspec": {
   "display_name": "Python 3 (ipykernel)",
   "language": "python",
   "name": "python3"
  },
  "language_info": {
   "codemirror_mode": {
    "name": "ipython",
    "version": 3
   },
   "file_extension": ".py",
   "mimetype": "text/x-python",
   "name": "python",
   "nbconvert_exporter": "python",
   "pygments_lexer": "ipython3",
   "version": "3.8.10"
  }
 },
 "nbformat": 4,
 "nbformat_minor": 5
}
